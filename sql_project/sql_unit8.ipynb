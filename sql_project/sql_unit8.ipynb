{
 "cells": [
  {
   "cell_type": "markdown",
   "metadata": {},
   "source": [
    "This notebook is used to conduct query on the country_club database"
   ]
  },
  {
   "cell_type": "code",
   "execution_count": 87,
   "metadata": {},
   "outputs": [],
   "source": [
    "import sqlite3\n",
    "import pandas as pd"
   ]
  },
  {
   "cell_type": "code",
   "execution_count": 88,
   "metadata": {},
   "outputs": [],
   "source": [
    "database = 'sqlite_db_pythonsqlite.db'"
   ]
  },
  {
   "cell_type": "code",
   "execution_count": 89,
   "metadata": {},
   "outputs": [],
   "source": [
    "con = sqlite3.connect(database)"
   ]
  },
  {
   "cell_type": "markdown",
   "metadata": {},
   "source": [
    "Q10: Produce a list of facilities with a total revenue less than 1000. The output of facility name and total revenue, sorted by revenue. Remember that there's a different cost for guests and members!"
   ]
  },
  {
   "cell_type": "code",
   "execution_count": 90,
   "metadata": {},
   "outputs": [
    {
     "name": "stdout",
     "output_type": "stream",
     "text": [
      "   facility_name  revenue\n",
      "0     Pool Table      270\n",
      "1  Snooker Table      240\n",
      "2   Table Tennis      180\n"
     ]
    }
   ],
   "source": [
    "rs1 = con.execute('SELECT f.name as facility_name, \\\n",
    "SUM(CASE WHEN b.memid = 0 THEN f.guestcost * b.slots \\\n",
    "ELSE f.membercost * b.slots \\\n",
    "END) AS revenue \\\n",
    "FROM Bookings as b \\\n",
    "INNER JOIN Facilities as f \\\n",
    "USING(facid) \\\n",
    "GROUP BY facility_name \\\n",
    "HAVING revenue < 1000 \\\n",
    "ORDER BY facility_name, revenue')\n",
    "df1 = pd.DataFrame(rs1.fetchall())\n",
    "df1.columns = ['facility_name', 'revenue']\n",
    "print(df1)"
   ]
  },
  {
   "cell_type": "markdown",
   "metadata": {},
   "source": [
    "Q11: Produce a report of members and who recommended them in alphabetic surname,firstname order"
   ]
  },
  {
   "cell_type": "code",
   "execution_count": 91,
   "metadata": {},
   "outputs": [
    {
     "name": "stdout",
     "output_type": "stream",
     "text": [
      "              surname  firstname recommendedby_surname recommendedby_firstname\n",
      "0               Bader   Florence              Stibbons                  Ponder\n",
      "1               Baker       Anne              Stibbons                  Ponder\n",
      "2               Baker    Timothy               Farrell                  Jemima\n",
      "3              Boothe        Tim                Rownam                     Tim\n",
      "4             Butters     Gerald                 Smith                  Darren\n",
      "5              Coplin       Joan                 Baker                 Timothy\n",
      "6             Crumpet      Erica                 Smith                   Tracy\n",
      "7                Dare      Nancy              Joplette                  Janice\n",
      "8             Genting    Matthew               Butters                  Gerald\n",
      "9                Hunt       John               Purview               Millicent\n",
      "10              Jones      David              Joplette                  Janice\n",
      "11              Jones    Douglas                 Jones                   David\n",
      "12           Joplette     Janice                 Smith                  Darren\n",
      "13          Mackenzie       Anna                 Smith                  Darren\n",
      "14               Owen    Charles                 Smith                  Darren\n",
      "15             Pinker      David               Farrell                  Jemima\n",
      "16            Purview  Millicent                 Smith                   Tracy\n",
      "17             Rumney  Henrietta               Genting                 Matthew\n",
      "18             Sarwin  Ramnaresh                 Bader                Florence\n",
      "19              Smith       Jack                 Smith                  Darren\n",
      "20           Stibbons     Ponder                 Tracy                  Burton\n",
      "21  Worthington-Smyth      Henry                 Smith                   Tracy\n"
     ]
    }
   ],
   "source": [
    "rs2 = con.execute('SELECT m1.surname, m1.firstname, m2.surname AS recommendedby_surname, m2.firstname AS recommendedby_firstname FROM Members as m1 \\\n",
    "INNER JOIN Members as m2 \\\n",
    "ON m1.recommendedby = m2.memid \\\n",
    "WHERE m1.recommendedby > 0 \\\n",
    "ORDER BY m1.surname, m1.firstname')\n",
    "df2 = pd.DataFrame(rs2.fetchall())\n",
    "df2.columns = ['surname', 'firstname', 'recommendedby_surname', 'recommendedby_firstname']\n",
    "print(df2)"
   ]
  },
  {
   "cell_type": "markdown",
   "metadata": {},
   "source": [
    "Q12: Find the facilities with their usage by member, but not guests"
   ]
  },
  {
   "cell_type": "code",
   "execution_count": 92,
   "metadata": {},
   "outputs": [
    {
     "name": "stdout",
     "output_type": "stream",
     "text": [
      "       facility_name   surname firstname  total_slots\n",
      "0    Badminton Court     Bader  Florence           27\n",
      "1    Badminton Court     Baker      Anne           30\n",
      "2    Badminton Court     Baker   Timothy           21\n",
      "3    Badminton Court    Boothe       Tim           36\n",
      "4    Badminton Court   Butters    Gerald           63\n",
      "..               ...       ...       ...          ...\n",
      "197   Tennis Court 2     Smith    Darren           57\n",
      "198   Tennis Court 2     Smith      Jack            3\n",
      "199   Tennis Court 2     Smith     Tracy            6\n",
      "200   Tennis Court 2  Stibbons    Ponder           96\n",
      "201   Tennis Court 2     Tracy    Burton            9\n",
      "\n",
      "[202 rows x 4 columns]\n"
     ]
    }
   ],
   "source": [
    "rs3 = con.execute('SELECT f.name as facility_name, surname, firstname, SUM(slots) AS total_slots \\\n",
    "FROM Bookings as b \\\n",
    "INNER JOIN Facilities as f \\\n",
    "USING(facid) \\\n",
    "INNER JOIN Members as m \\\n",
    "ON b.memid = m.memid \\\n",
    "WHERE m.memid > 0 \\\n",
    "GROUP BY facility_name, surname, firstname \\\n",
    "ORDER BY facility_name, surname, firstname')\n",
    "df3 = pd.DataFrame(rs3.fetchall())\n",
    "df3.columns = ['facility_name', 'surname', 'firstname', 'total_slots']\n",
    "print(df3)"
   ]
  },
  {
   "cell_type": "markdown",
   "metadata": {},
   "source": [
    "Q13: Find the facilities usage by month, but not guests"
   ]
  },
  {
   "cell_type": "code",
   "execution_count": 93,
   "metadata": {},
   "outputs": [
    {
     "name": "stdout",
     "output_type": "stream",
     "text": [
      "      facility_name  month  total_slots\n",
      "0   Badminton Court      7          165\n",
      "1   Badminton Court      8          414\n",
      "2   Badminton Court      9          507\n",
      "3    Massage Room 1      7          166\n",
      "4    Massage Room 1      8          316\n",
      "5    Massage Room 1      9          402\n",
      "6    Massage Room 2      7            8\n",
      "7    Massage Room 2      8           18\n",
      "8    Massage Room 2      9           28\n",
      "9        Pool Table      7          110\n",
      "10       Pool Table      8          303\n",
      "11       Pool Table      9          443\n",
      "12    Snooker Table      7          140\n",
      "13    Snooker Table      8          316\n",
      "14    Snooker Table      9          404\n",
      "15     Squash Court      7           50\n",
      "16     Squash Court      8          184\n",
      "17     Squash Court      9          184\n",
      "18     Table Tennis      7           98\n",
      "19     Table Tennis      8          296\n",
      "20     Table Tennis      9          400\n",
      "21   Tennis Court 1      7          201\n",
      "22   Tennis Court 1      8          339\n",
      "23   Tennis Court 1      9          417\n",
      "24   Tennis Court 2      7          123\n",
      "25   Tennis Court 2      8          345\n",
      "26   Tennis Court 2      9          414\n"
     ]
    }
   ],
   "source": [
    "rs4 = con.execute('SELECT f.name as facility_name, \\\n",
    "CASE WHEN starttime LIKE \"2012-07-%\" THEN 7 \\\n",
    "WHEN starttime LIKE \"2012-08-%\" THEN 8 \\\n",
    "ELSE 9 END AS month, SUM(slots) AS total_slots \\\n",
    "FROM Bookings as b \\\n",
    "INNER JOIN Facilities as f \\\n",
    "USING(facid) WHERE memid > 0 \\\n",
    "GROUP BY facility_name, month \\\n",
    "ORDER BY facility_name, month')\n",
    "df4 = pd.DataFrame(rs4.fetchall())\n",
    "df4.columns = ['facility_name', 'month', 'total_slots']\n",
    "print(df4)"
   ]
  }
 ],
 "metadata": {
  "kernelspec": {
   "display_name": "Python 3 (ipykernel)",
   "language": "python",
   "name": "python3"
  },
  "language_info": {
   "codemirror_mode": {
    "name": "ipython",
    "version": 3
   },
   "file_extension": ".py",
   "mimetype": "text/x-python",
   "name": "python",
   "nbconvert_exporter": "python",
   "pygments_lexer": "ipython3",
   "version": "3.9.12"
  }
 },
 "nbformat": 4,
 "nbformat_minor": 4
}
