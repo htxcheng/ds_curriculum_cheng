{
 "cells": [
  {
   "cell_type": "markdown",
   "metadata": {
    "colab_type": "text",
    "id": "tJ2aGPMZB5X8"
   },
   "source": [
    "## Part 1 - Exploratory Data Analysis"
   ]
  },
  {
   "cell_type": "markdown",
   "metadata": {
    "colab_type": "text",
    "id": "7PrMkSjBQEMZ"
   },
   "source": [
    "First, load the needed packages and modules into Python. Next, load the data into a pandas dataframe for ease of use."
   ]
  },
  {
   "cell_type": "code",
   "execution_count": 1,
   "metadata": {
    "colab": {},
    "colab_type": "code",
    "id": "X3EhD-LSB5YI"
   },
   "outputs": [],
   "source": [
    "import os\n",
    "import pandas as pd\n",
    "from datetime import datetime,timedelta\n",
    "import seaborn as sns\n",
    "import matplotlib.pyplot as plt\n",
    "import numpy as np\n",
    "\n",
    "sns.set_style('darkgrid')\n",
    "%matplotlib inline"
   ]
  },
  {
   "cell_type": "code",
   "execution_count": 2,
   "metadata": {
    "colab": {},
    "colab_type": "code",
    "id": "CiJQlTK1SpNd"
   },
   "outputs": [
    {
     "data": {
      "text/html": [
       "<div>\n",
       "<style scoped>\n",
       "    .dataframe tbody tr th:only-of-type {\n",
       "        vertical-align: middle;\n",
       "    }\n",
       "\n",
       "    .dataframe tbody tr th {\n",
       "        vertical-align: top;\n",
       "    }\n",
       "\n",
       "    .dataframe thead th {\n",
       "        text-align: right;\n",
       "    }\n",
       "</style>\n",
       "<table border=\"1\" class=\"dataframe\">\n",
       "  <thead>\n",
       "    <tr style=\"text-align: right;\">\n",
       "      <th></th>\n",
       "      <th>login_time</th>\n",
       "    </tr>\n",
       "  </thead>\n",
       "  <tbody>\n",
       "    <tr>\n",
       "      <th>0</th>\n",
       "      <td>1970-01-01 20:13:18</td>\n",
       "    </tr>\n",
       "    <tr>\n",
       "      <th>1</th>\n",
       "      <td>1970-01-01 20:16:10</td>\n",
       "    </tr>\n",
       "    <tr>\n",
       "      <th>2</th>\n",
       "      <td>1970-01-01 20:16:37</td>\n",
       "    </tr>\n",
       "    <tr>\n",
       "      <th>3</th>\n",
       "      <td>1970-01-01 20:16:36</td>\n",
       "    </tr>\n",
       "    <tr>\n",
       "      <th>4</th>\n",
       "      <td>1970-01-01 20:26:21</td>\n",
       "    </tr>\n",
       "  </tbody>\n",
       "</table>\n",
       "</div>"
      ],
      "text/plain": [
       "           login_time\n",
       "0 1970-01-01 20:13:18\n",
       "1 1970-01-01 20:16:10\n",
       "2 1970-01-01 20:16:37\n",
       "3 1970-01-01 20:16:36\n",
       "4 1970-01-01 20:26:21"
      ]
     },
     "execution_count": 2,
     "metadata": {},
     "output_type": "execute_result"
    }
   ],
   "source": [
    "df_logins = pd.read_json('../data/logins.json')\n",
    "df_logins.head()"
   ]
  },
  {
   "cell_type": "code",
   "execution_count": 3,
   "metadata": {
    "colab": {},
    "colab_type": "code",
    "id": "GUY5Cp2cSpNg"
   },
   "outputs": [
    {
     "name": "stdout",
     "output_type": "stream",
     "text": [
      "<class 'pandas.core.frame.DataFrame'>\n",
      "RangeIndex: 93142 entries, 0 to 93141\n",
      "Data columns (total 1 columns):\n",
      " #   Column      Non-Null Count  Dtype         \n",
      "---  ------      --------------  -----         \n",
      " 0   login_time  93142 non-null  datetime64[ns]\n",
      "dtypes: datetime64[ns](1)\n",
      "memory usage: 727.8 KB\n"
     ]
    }
   ],
   "source": [
    "df_logins.info()"
   ]
  },
  {
   "cell_type": "markdown",
   "metadata": {},
   "source": [
    "Aggregate the login time based on 15-minute time intervals."
   ]
  },
  {
   "cell_type": "code",
   "execution_count": 4,
   "metadata": {},
   "outputs": [],
   "source": [
    "df_logins.set_index('login_time', inplace=True)\n",
    "df_logins['count'] = 1\n",
    "df_logins = df_logins.resample('15T').count()\n",
    "df_logins.reset_index(inplace=True)"
   ]
  },
  {
   "cell_type": "code",
   "execution_count": 5,
   "metadata": {},
   "outputs": [
    {
     "data": {
      "text/html": [
       "<div>\n",
       "<style scoped>\n",
       "    .dataframe tbody tr th:only-of-type {\n",
       "        vertical-align: middle;\n",
       "    }\n",
       "\n",
       "    .dataframe tbody tr th {\n",
       "        vertical-align: top;\n",
       "    }\n",
       "\n",
       "    .dataframe thead th {\n",
       "        text-align: right;\n",
       "    }\n",
       "</style>\n",
       "<table border=\"1\" class=\"dataframe\">\n",
       "  <thead>\n",
       "    <tr style=\"text-align: right;\">\n",
       "      <th></th>\n",
       "      <th>login_time</th>\n",
       "      <th>count</th>\n",
       "    </tr>\n",
       "  </thead>\n",
       "  <tbody>\n",
       "    <tr>\n",
       "      <th>0</th>\n",
       "      <td>1970-01-01 20:00:00</td>\n",
       "      <td>2</td>\n",
       "    </tr>\n",
       "    <tr>\n",
       "      <th>1</th>\n",
       "      <td>1970-01-01 20:15:00</td>\n",
       "      <td>6</td>\n",
       "    </tr>\n",
       "    <tr>\n",
       "      <th>2</th>\n",
       "      <td>1970-01-01 20:30:00</td>\n",
       "      <td>9</td>\n",
       "    </tr>\n",
       "    <tr>\n",
       "      <th>3</th>\n",
       "      <td>1970-01-01 20:45:00</td>\n",
       "      <td>7</td>\n",
       "    </tr>\n",
       "    <tr>\n",
       "      <th>4</th>\n",
       "      <td>1970-01-01 21:00:00</td>\n",
       "      <td>1</td>\n",
       "    </tr>\n",
       "  </tbody>\n",
       "</table>\n",
       "</div>"
      ],
      "text/plain": [
       "           login_time  count\n",
       "0 1970-01-01 20:00:00      2\n",
       "1 1970-01-01 20:15:00      6\n",
       "2 1970-01-01 20:30:00      9\n",
       "3 1970-01-01 20:45:00      7\n",
       "4 1970-01-01 21:00:00      1"
      ]
     },
     "execution_count": 5,
     "metadata": {},
     "output_type": "execute_result"
    }
   ],
   "source": [
    "df_logins.head()"
   ]
  },
  {
   "cell_type": "code",
   "execution_count": 6,
   "metadata": {},
   "outputs": [
    {
     "data": {
      "text/html": [
       "<div>\n",
       "<style scoped>\n",
       "    .dataframe tbody tr th:only-of-type {\n",
       "        vertical-align: middle;\n",
       "    }\n",
       "\n",
       "    .dataframe tbody tr th {\n",
       "        vertical-align: top;\n",
       "    }\n",
       "\n",
       "    .dataframe thead th {\n",
       "        text-align: right;\n",
       "    }\n",
       "</style>\n",
       "<table border=\"1\" class=\"dataframe\">\n",
       "  <thead>\n",
       "    <tr style=\"text-align: right;\">\n",
       "      <th></th>\n",
       "      <th>count</th>\n",
       "    </tr>\n",
       "  </thead>\n",
       "  <tbody>\n",
       "    <tr>\n",
       "      <th>count</th>\n",
       "      <td>9788.000000</td>\n",
       "    </tr>\n",
       "    <tr>\n",
       "      <th>mean</th>\n",
       "      <td>9.515938</td>\n",
       "    </tr>\n",
       "    <tr>\n",
       "      <th>std</th>\n",
       "      <td>8.328818</td>\n",
       "    </tr>\n",
       "    <tr>\n",
       "      <th>min</th>\n",
       "      <td>0.000000</td>\n",
       "    </tr>\n",
       "    <tr>\n",
       "      <th>25%</th>\n",
       "      <td>3.000000</td>\n",
       "    </tr>\n",
       "    <tr>\n",
       "      <th>50%</th>\n",
       "      <td>7.000000</td>\n",
       "    </tr>\n",
       "    <tr>\n",
       "      <th>75%</th>\n",
       "      <td>13.000000</td>\n",
       "    </tr>\n",
       "    <tr>\n",
       "      <th>max</th>\n",
       "      <td>73.000000</td>\n",
       "    </tr>\n",
       "  </tbody>\n",
       "</table>\n",
       "</div>"
      ],
      "text/plain": [
       "             count\n",
       "count  9788.000000\n",
       "mean      9.515938\n",
       "std       8.328818\n",
       "min       0.000000\n",
       "25%       3.000000\n",
       "50%       7.000000\n",
       "75%      13.000000\n",
       "max      73.000000"
      ]
     },
     "execution_count": 6,
     "metadata": {},
     "output_type": "execute_result"
    }
   ],
   "source": [
    "df_logins.describe()"
   ]
  },
  {
   "cell_type": "markdown",
   "metadata": {},
   "source": [
    "Plot the dataset."
   ]
  },
  {
   "cell_type": "code",
   "execution_count": 7,
   "metadata": {},
   "outputs": [
    {
     "data": {
      "image/png": "[encoded data removed]",
      "text/plain": [
       "<Figure size 1080x720 with 1 Axes>"
      ]
     },
     "metadata": {
      "needs_background": "light"
     },
     "output_type": "display_data"
    }
   ],
   "source": [
    "plt.figure(figsize = (15,10))\n",
    "sns.lineplot(x='login_time', y='count', data=df_logins)\n",
    "plt.xticks(fontsize=15)\n",
    "plt.yticks(fontsize=15)\n",
    "plt.xlabel('Time', fontsize=20)\n",
    "plt.ylabel('Logins', fontsize=20)\n",
    "plt.show()"
   ]
  },
  {
   "cell_type": "markdown",
   "metadata": {},
   "source": [
    "Plot the usage for each hour."
   ]
  },
  {
   "cell_type": "code",
   "execution_count": 8,
   "metadata": {},
   "outputs": [],
   "source": [
    "df_logins['hour'] = df_logins['login_time'].dt.hour\n",
    "df_hour = df_logins.groupby('hour').sum().reset_index()"
   ]
  },
  {
   "cell_type": "code",
   "execution_count": 9,
   "metadata": {},
   "outputs": [
    {
     "data": {
      "image/png": "[encoded data removed]",
      "text/plain": [
       "<Figure size 720x576 with 1 Axes>"
      ]
     },
     "metadata": {
      "needs_background": "light"
     },
     "output_type": "display_data"
    }
   ],
   "source": [
    "plt.figure(figsize = (10,8))\n",
    "sns.barplot(x='hour', y='count', data=df_hour)\n",
    "plt.xticks(fontsize=15)\n",
    "plt.yticks(fontsize=15)\n",
    "plt.xlabel('Hour', fontsize=15)\n",
    "plt.ylabel('Logins', fontsize=15)\n",
    "plt.show()"
   ]
  },
  {
   "cell_type": "markdown",
   "metadata": {},
   "source": [
    "Seems the usage is much higher in the evernings but much lower in the early mornings."
   ]
  },
  {
   "cell_type": "markdown",
   "metadata": {},
   "source": [
    "Plot the usage for every day of the week."
   ]
  },
  {
   "cell_type": "code",
   "execution_count": 10,
   "metadata": {},
   "outputs": [],
   "source": [
    "df_logins['day'] = df_logins['login_time'].dt.dayofweek\n",
    "df_day = df_logins.groupby('day').sum().reset_index()"
   ]
  },
  {
   "cell_type": "code",
   "execution_count": 11,
   "metadata": {},
   "outputs": [
    {
     "data": {
      "text/html": [
       "<div>\n",
       "<style scoped>\n",
       "    .dataframe tbody tr th:only-of-type {\n",
       "        vertical-align: middle;\n",
       "    }\n",
       "\n",
       "    .dataframe tbody tr th {\n",
       "        vertical-align: top;\n",
       "    }\n",
       "\n",
       "    .dataframe thead th {\n",
       "        text-align: right;\n",
       "    }\n",
       "</style>\n",
       "<table border=\"1\" class=\"dataframe\">\n",
       "  <thead>\n",
       "    <tr style=\"text-align: right;\">\n",
       "      <th></th>\n",
       "      <th>day</th>\n",
       "      <th>count</th>\n",
       "      <th>hour</th>\n",
       "    </tr>\n",
       "  </thead>\n",
       "  <tbody>\n",
       "    <tr>\n",
       "      <th>0</th>\n",
       "      <td>0</td>\n",
       "      <td>8823</td>\n",
       "      <td>16140</td>\n",
       "    </tr>\n",
       "    <tr>\n",
       "      <th>1</th>\n",
       "      <td>1</td>\n",
       "      <td>9268</td>\n",
       "      <td>15456</td>\n",
       "    </tr>\n",
       "    <tr>\n",
       "      <th>2</th>\n",
       "      <td>2</td>\n",
       "      <td>10339</td>\n",
       "      <td>15456</td>\n",
       "    </tr>\n",
       "    <tr>\n",
       "      <th>3</th>\n",
       "      <td>3</td>\n",
       "      <td>11960</td>\n",
       "      <td>15800</td>\n",
       "    </tr>\n",
       "    <tr>\n",
       "      <th>4</th>\n",
       "      <td>4</td>\n",
       "      <td>15208</td>\n",
       "      <td>16560</td>\n",
       "    </tr>\n",
       "    <tr>\n",
       "      <th>5</th>\n",
       "      <td>5</td>\n",
       "      <td>19377</td>\n",
       "      <td>16560</td>\n",
       "    </tr>\n",
       "    <tr>\n",
       "      <th>6</th>\n",
       "      <td>6</td>\n",
       "      <td>18167</td>\n",
       "      <td>16560</td>\n",
       "    </tr>\n",
       "  </tbody>\n",
       "</table>\n",
       "</div>"
      ],
      "text/plain": [
       "   day  count   hour\n",
       "0    0   8823  16140\n",
       "1    1   9268  15456\n",
       "2    2  10339  15456\n",
       "3    3  11960  15800\n",
       "4    4  15208  16560\n",
       "5    5  19377  16560\n",
       "6    6  18167  16560"
      ]
     },
     "execution_count": 11,
     "metadata": {},
     "output_type": "execute_result"
    }
   ],
   "source": [
    "df_day"
   ]
  },
  {
   "cell_type": "code",
   "execution_count": 12,
   "metadata": {},
   "outputs": [
    {
     "data": {
      "image/png": "[encoded data removed]",
      "text/plain": [
       "<Figure size 720x576 with 1 Axes>"
      ]
     },
     "metadata": {
      "needs_background": "light"
     },
     "output_type": "display_data"
    }
   ],
   "source": [
    "plt.figure(figsize = (10,8))\n",
    "sns.barplot(x='day', y='count', data=df_day)\n",
    "plt.xticks([0,1,2,3,4,5,6],['Monday', 'Tuesday', 'Wednesday', 'Thursday', 'Friday', 'Saturday', 'Sunday'], fontsize=15)\n",
    "plt.yticks(fontsize=15)\n",
    "plt.xlabel('Day of week', fontsize=15)\n",
    "plt.ylabel('Logins', fontsize=15)\n",
    "plt.show()"
   ]
  },
  {
   "cell_type": "markdown",
   "metadata": {},
   "source": [
    "Seems the usage is higher in the weekends (Friday to Sunday). "
   ]
  },
  {
   "cell_type": "markdown",
   "metadata": {},
   "source": [
    "## Part 2 - Experiment and Metrics Design"
   ]
  },
  {
   "cell_type": "markdown",
   "metadata": {},
   "source": [
    "The neighboring cities of Gotham and Metropolis have complementary circadian rhythms: on weekdays, Ultimate Gotham is most active at night, and Ultimate Metropolis is most active during the day. On weekends, there is reasonable activity in both cities.\n",
    "\n",
    "However, a toll bridge, with a two way toll, between the two cities causes driver partners to tend to be exclusive to each city. The Ultimate managers of city operations for the two cities have proposed an experiment to encourage driver partners to be available in both cities, by reimbursing all toll costs."
   ]
  },
  {
   "cell_type": "markdown",
   "metadata": {},
   "source": [
    "#### 1) What would you choose as the key measure of success of this experiment in encouraging driver partners to serve both cities, and why would you choose this metric?"
   ]
  },
  {
   "cell_type": "markdown",
   "metadata": {},
   "source": [
    "There are several metrics that can be used for the key measure of success of this experiment, including:\n",
    "* how much of increase in driver partners in both cities; \n",
    "* decrease of traffic time. "
   ]
  },
  {
   "cell_type": "markdown",
   "metadata": {},
   "source": [
    "#### 2) Describe a practical experiment you would design to compare the effectiveness of the proposed change in relation to the key measure of success. Please provide details on:"
   ]
  },
  {
   "cell_type": "markdown",
   "metadata": {},
   "source": [
    "An A/B test would be useful for this experiment."
   ]
  },
  {
   "cell_type": "markdown",
   "metadata": {},
   "source": [
    "#### a) how you will implement the experiment"
   ]
  },
  {
   "cell_type": "markdown",
   "metadata": {},
   "source": [
    "We need to collect the following data:\n",
    "* The number of drive partners in both cities before and after the experiment. \n",
    "* The time it takes to drive between the two cities before and after the experiment. "
   ]
  },
  {
   "cell_type": "markdown",
   "metadata": {},
   "source": [
    "#### b) what statistical test(s) you will conduct to verify the significance of the observation"
   ]
  },
  {
   "cell_type": "markdown",
   "metadata": {},
   "source": [
    "A null hypothesis test is conducted on the two variables to identify if there is any significance. The null hypothesis can be that there is no change for the two variables before and after the experiment. We can test the hypothesis for the two variables: \n",
    "\n",
    "Number of driver partners: We can select a rule of that how much increase of driver partners is considered to be significant. For example, we decide 10% is significant. Then, if the p-value of the increase of driver partners after the experiment is >= 10% of that before the experiment is larger than 5% (we use p=0.05 as significance level), we can reject the null hypothesis, and say that the experiment is succussful and is statistically significant.\n",
    "\n",
    "Decrease of traffic time: We can select a rule of that how much decrease of traffic time is considered to be significant. For example, we decide decrease of 10 minutes is significant. Then, if the p-value of the decrease of traffic time after the experiment is >= 10 minutes of that before the experiment is larger than 5% (we use p=0.05 as significance level), we can reject the null hypothesis, and say that the experiment is succussful and is statistically significant."
   ]
  },
  {
   "cell_type": "markdown",
   "metadata": {},
   "source": [
    "#### c) how you would interpret the results and provide recommendations to the city operations team along with any caveats."
   ]
  },
  {
   "cell_type": "markdown",
   "metadata": {},
   "source": [
    "If any of the two null hypothesis is rejected, then we can assume the experiment is succussful. \n",
    "\n",
    "Other variables to be considered include the economic growth for the two cities, profit, and customer ratings. However, issurs could arise with free toll road, such as increase of traffic. So the city would revise the program if any issue arises."
   ]
  },
  {
   "cell_type": "markdown",
   "metadata": {},
   "source": [
    "## Part 3 - Predictive Modeling"
   ]
  },
  {
   "cell_type": "markdown",
   "metadata": {},
   "source": [
    "### 3.1 Load Dataset"
   ]
  },
  {
   "cell_type": "code",
   "execution_count": 13,
   "metadata": {},
   "outputs": [
    {
     "data": {
      "text/html": [
       "<div>\n",
       "<style scoped>\n",
       "    .dataframe tbody tr th:only-of-type {\n",
       "        vertical-align: middle;\n",
       "    }\n",
       "\n",
       "    .dataframe tbody tr th {\n",
       "        vertical-align: top;\n",
       "    }\n",
       "\n",
       "    .dataframe thead th {\n",
       "        text-align: right;\n",
       "    }\n",
       "</style>\n",
       "<table border=\"1\" class=\"dataframe\">\n",
       "  <thead>\n",
       "    <tr style=\"text-align: right;\">\n",
       "      <th></th>\n",
       "      <th>city</th>\n",
       "      <th>trips_in_first_30_days</th>\n",
       "      <th>signup_date</th>\n",
       "      <th>avg_rating_of_driver</th>\n",
       "      <th>avg_surge</th>\n",
       "      <th>last_trip_date</th>\n",
       "      <th>phone</th>\n",
       "      <th>surge_pct</th>\n",
       "      <th>ultimate_black_user</th>\n",
       "      <th>weekday_pct</th>\n",
       "      <th>avg_dist</th>\n",
       "      <th>avg_rating_by_driver</th>\n",
       "    </tr>\n",
       "  </thead>\n",
       "  <tbody>\n",
       "    <tr>\n",
       "      <th>0</th>\n",
       "      <td>King's Landing</td>\n",
       "      <td>4</td>\n",
       "      <td>2014-01-25</td>\n",
       "      <td>4.7</td>\n",
       "      <td>1.10</td>\n",
       "      <td>2014-06-17</td>\n",
       "      <td>iPhone</td>\n",
       "      <td>15.4</td>\n",
       "      <td>True</td>\n",
       "      <td>46.2</td>\n",
       "      <td>3.67</td>\n",
       "      <td>5.0</td>\n",
       "    </tr>\n",
       "    <tr>\n",
       "      <th>1</th>\n",
       "      <td>Astapor</td>\n",
       "      <td>0</td>\n",
       "      <td>2014-01-29</td>\n",
       "      <td>5.0</td>\n",
       "      <td>1.00</td>\n",
       "      <td>2014-05-05</td>\n",
       "      <td>Android</td>\n",
       "      <td>0.0</td>\n",
       "      <td>False</td>\n",
       "      <td>50.0</td>\n",
       "      <td>8.26</td>\n",
       "      <td>5.0</td>\n",
       "    </tr>\n",
       "    <tr>\n",
       "      <th>2</th>\n",
       "      <td>Astapor</td>\n",
       "      <td>3</td>\n",
       "      <td>2014-01-06</td>\n",
       "      <td>4.3</td>\n",
       "      <td>1.00</td>\n",
       "      <td>2014-01-07</td>\n",
       "      <td>iPhone</td>\n",
       "      <td>0.0</td>\n",
       "      <td>False</td>\n",
       "      <td>100.0</td>\n",
       "      <td>0.77</td>\n",
       "      <td>5.0</td>\n",
       "    </tr>\n",
       "    <tr>\n",
       "      <th>3</th>\n",
       "      <td>King's Landing</td>\n",
       "      <td>9</td>\n",
       "      <td>2014-01-10</td>\n",
       "      <td>4.6</td>\n",
       "      <td>1.14</td>\n",
       "      <td>2014-06-29</td>\n",
       "      <td>iPhone</td>\n",
       "      <td>20.0</td>\n",
       "      <td>True</td>\n",
       "      <td>80.0</td>\n",
       "      <td>2.36</td>\n",
       "      <td>4.9</td>\n",
       "    </tr>\n",
       "    <tr>\n",
       "      <th>4</th>\n",
       "      <td>Winterfell</td>\n",
       "      <td>14</td>\n",
       "      <td>2014-01-27</td>\n",
       "      <td>4.4</td>\n",
       "      <td>1.19</td>\n",
       "      <td>2014-03-15</td>\n",
       "      <td>Android</td>\n",
       "      <td>11.8</td>\n",
       "      <td>False</td>\n",
       "      <td>82.4</td>\n",
       "      <td>3.13</td>\n",
       "      <td>4.9</td>\n",
       "    </tr>\n",
       "  </tbody>\n",
       "</table>\n",
       "</div>"
      ],
      "text/plain": [
       "             city  trips_in_first_30_days signup_date  avg_rating_of_driver  \\\n",
       "0  King's Landing                       4  2014-01-25                   4.7   \n",
       "1         Astapor                       0  2014-01-29                   5.0   \n",
       "2         Astapor                       3  2014-01-06                   4.3   \n",
       "3  King's Landing                       9  2014-01-10                   4.6   \n",
       "4      Winterfell                      14  2014-01-27                   4.4   \n",
       "\n",
       "   avg_surge last_trip_date    phone  surge_pct  ultimate_black_user  \\\n",
       "0       1.10     2014-06-17   iPhone       15.4                 True   \n",
       "1       1.00     2014-05-05  Android        0.0                False   \n",
       "2       1.00     2014-01-07   iPhone        0.0                False   \n",
       "3       1.14     2014-06-29   iPhone       20.0                 True   \n",
       "4       1.19     2014-03-15  Android       11.8                False   \n",
       "\n",
       "   weekday_pct  avg_dist  avg_rating_by_driver  \n",
       "0         46.2      3.67                   5.0  \n",
       "1         50.0      8.26                   5.0  \n",
       "2        100.0      0.77                   5.0  \n",
       "3         80.0      2.36                   4.9  \n",
       "4         82.4      3.13                   4.9  "
      ]
     },
     "execution_count": 13,
     "metadata": {},
     "output_type": "execute_result"
    }
   ],
   "source": [
    "df = pd.read_json('../data/ultimate_data_challenge.json')\n",
    "df.head()"
   ]
  },
  {
   "cell_type": "code",
   "execution_count": 14,
   "metadata": {},
   "outputs": [
    {
     "name": "stdout",
     "output_type": "stream",
     "text": [
      "<class 'pandas.core.frame.DataFrame'>\n",
      "RangeIndex: 50000 entries, 0 to 49999\n",
      "Data columns (total 12 columns):\n",
      " #   Column                  Non-Null Count  Dtype  \n",
      "---  ------                  --------------  -----  \n",
      " 0   city                    50000 non-null  object \n",
      " 1   trips_in_first_30_days  50000 non-null  int64  \n",
      " 2   signup_date             50000 non-null  object \n",
      " 3   avg_rating_of_driver    41878 non-null  float64\n",
      " 4   avg_surge               50000 non-null  float64\n",
      " 5   last_trip_date          50000 non-null  object \n",
      " 6   phone                   49604 non-null  object \n",
      " 7   surge_pct               50000 non-null  float64\n",
      " 8   ultimate_black_user     50000 non-null  bool   \n",
      " 9   weekday_pct             50000 non-null  float64\n",
      " 10  avg_dist                50000 non-null  float64\n",
      " 11  avg_rating_by_driver    49799 non-null  float64\n",
      "dtypes: bool(1), float64(6), int64(1), object(4)\n",
      "memory usage: 4.2+ MB\n"
     ]
    }
   ],
   "source": [
    "df.info()"
   ]
  },
  {
   "cell_type": "markdown",
   "metadata": {},
   "source": [
    "### 3.2 Data Wrangling"
   ]
  },
  {
   "cell_type": "markdown",
   "metadata": {},
   "source": [
    "There are a few columns which have missing values. We need to handle those missing values."
   ]
  },
  {
   "cell_type": "markdown",
   "metadata": {},
   "source": [
    "##### Handle missing values for `avg_rating_of_driver` - fill in using median values"
   ]
  },
  {
   "cell_type": "code",
   "execution_count": 15,
   "metadata": {},
   "outputs": [],
   "source": [
    "df['avg_rating_of_driver'] = df['avg_rating_of_driver'].fillna(df['avg_rating_of_driver'].median())"
   ]
  },
  {
   "cell_type": "markdown",
   "metadata": {},
   "source": [
    "##### Handle missing values for `avg_rating_by_driver ` - fill in using median values"
   ]
  },
  {
   "cell_type": "code",
   "execution_count": 16,
   "metadata": {},
   "outputs": [],
   "source": [
    "df['avg_rating_by_driver'] = df['avg_rating_by_driver'].fillna(df['avg_rating_by_driver'].median())"
   ]
  },
  {
   "cell_type": "markdown",
   "metadata": {},
   "source": [
    "##### Handle missing values for `phone` - fill in using 'NA'"
   ]
  },
  {
   "cell_type": "code",
   "execution_count": 17,
   "metadata": {},
   "outputs": [],
   "source": [
    "df['phone'] = df['phone'].fillna('NA')"
   ]
  },
  {
   "cell_type": "code",
   "execution_count": 18,
   "metadata": {},
   "outputs": [
    {
     "name": "stdout",
     "output_type": "stream",
     "text": [
      "<class 'pandas.core.frame.DataFrame'>\n",
      "RangeIndex: 50000 entries, 0 to 49999\n",
      "Data columns (total 12 columns):\n",
      " #   Column                  Non-Null Count  Dtype  \n",
      "---  ------                  --------------  -----  \n",
      " 0   city                    50000 non-null  object \n",
      " 1   trips_in_first_30_days  50000 non-null  int64  \n",
      " 2   signup_date             50000 non-null  object \n",
      " 3   avg_rating_of_driver    50000 non-null  float64\n",
      " 4   avg_surge               50000 non-null  float64\n",
      " 5   last_trip_date          50000 non-null  object \n",
      " 6   phone                   50000 non-null  object \n",
      " 7   surge_pct               50000 non-null  float64\n",
      " 8   ultimate_black_user     50000 non-null  bool   \n",
      " 9   weekday_pct             50000 non-null  float64\n",
      " 10  avg_dist                50000 non-null  float64\n",
      " 11  avg_rating_by_driver    50000 non-null  float64\n",
      "dtypes: bool(1), float64(6), int64(1), object(4)\n",
      "memory usage: 4.2+ MB\n"
     ]
    }
   ],
   "source": [
    "df.info()"
   ]
  },
  {
   "cell_type": "markdown",
   "metadata": {},
   "source": [
    "#### Question 1: Perform any cleaning, exploratory analysis, and/or visualizations to use the provided data for this analysis (a few sentences/plots describing your approach will suffice). What fraction of the observed users were retained?"
   ]
  },
  {
   "cell_type": "code",
   "execution_count": 19,
   "metadata": {},
   "outputs": [
    {
     "name": "stdout",
     "output_type": "stream",
     "text": [
      "0.6922\n"
     ]
    }
   ],
   "source": [
    "retain_first_30_days = len(df[df['trips_in_first_30_days'] > 0]) / len(df)\n",
    "print(retain_first_30_days)"
   ]
  },
  {
   "cell_type": "markdown",
   "metadata": {},
   "source": [
    "#### In the first 30 days, there are 69% of users who are considered to be retained. "
   ]
  },
  {
   "cell_type": "code",
   "execution_count": 20,
   "metadata": {},
   "outputs": [
    {
     "data": {
      "text/plain": [
       "'2014-07-01'"
      ]
     },
     "execution_count": 20,
     "metadata": {},
     "output_type": "execute_result"
    }
   ],
   "source": [
    "df['last_trip_date'].max()"
   ]
  },
  {
   "cell_type": "markdown",
   "metadata": {},
   "source": [
    "The last trip date is 2014-07-01, so the last 30 days is June 2014."
   ]
  },
  {
   "cell_type": "code",
   "execution_count": 21,
   "metadata": {},
   "outputs": [],
   "source": [
    "df['last_trip_date'] = pd.to_datetime(df['last_trip_date'])"
   ]
  },
  {
   "cell_type": "code",
   "execution_count": 22,
   "metadata": {},
   "outputs": [
    {
     "name": "stdout",
     "output_type": "stream",
     "text": [
      "0.37608\n"
     ]
    }
   ],
   "source": [
    "retain_last_30_days = len(df[df['last_trip_date'] >= '2014-06-01']) / len(df)\n",
    "print(retain_last_30_days)"
   ]
  },
  {
   "cell_type": "markdown",
   "metadata": {},
   "source": [
    "#### In the last 30 days, there are 38% of users who are considered to be retained. "
   ]
  },
  {
   "cell_type": "markdown",
   "metadata": {},
   "source": [
    "### 3.3 EDA"
   ]
  },
  {
   "cell_type": "markdown",
   "metadata": {},
   "source": [
    "Create a new field which has the retained users in the 6th month (June 2014). "
   ]
  },
  {
   "cell_type": "code",
   "execution_count": 23,
   "metadata": {},
   "outputs": [],
   "source": [
    "df['retained'] = (df['last_trip_date'] >= '2014-06-01').astype(int)"
   ]
  },
  {
   "cell_type": "code",
   "execution_count": 24,
   "metadata": {},
   "outputs": [
    {
     "data": {
      "text/html": [
       "<div>\n",
       "<style scoped>\n",
       "    .dataframe tbody tr th:only-of-type {\n",
       "        vertical-align: middle;\n",
       "    }\n",
       "\n",
       "    .dataframe tbody tr th {\n",
       "        vertical-align: top;\n",
       "    }\n",
       "\n",
       "    .dataframe thead th {\n",
       "        text-align: right;\n",
       "    }\n",
       "</style>\n",
       "<table border=\"1\" class=\"dataframe\">\n",
       "  <thead>\n",
       "    <tr style=\"text-align: right;\">\n",
       "      <th></th>\n",
       "      <th>city</th>\n",
       "      <th>trips_in_first_30_days</th>\n",
       "      <th>signup_date</th>\n",
       "      <th>avg_rating_of_driver</th>\n",
       "      <th>avg_surge</th>\n",
       "      <th>last_trip_date</th>\n",
       "      <th>phone</th>\n",
       "      <th>surge_pct</th>\n",
       "      <th>ultimate_black_user</th>\n",
       "      <th>weekday_pct</th>\n",
       "      <th>avg_dist</th>\n",
       "      <th>avg_rating_by_driver</th>\n",
       "      <th>retained</th>\n",
       "    </tr>\n",
       "  </thead>\n",
       "  <tbody>\n",
       "    <tr>\n",
       "      <th>0</th>\n",
       "      <td>King's Landing</td>\n",
       "      <td>4</td>\n",
       "      <td>2014-01-25</td>\n",
       "      <td>4.7</td>\n",
       "      <td>1.10</td>\n",
       "      <td>2014-06-17</td>\n",
       "      <td>iPhone</td>\n",
       "      <td>15.4</td>\n",
       "      <td>True</td>\n",
       "      <td>46.2</td>\n",
       "      <td>3.67</td>\n",
       "      <td>5.0</td>\n",
       "      <td>1</td>\n",
       "    </tr>\n",
       "    <tr>\n",
       "      <th>1</th>\n",
       "      <td>Astapor</td>\n",
       "      <td>0</td>\n",
       "      <td>2014-01-29</td>\n",
       "      <td>5.0</td>\n",
       "      <td>1.00</td>\n",
       "      <td>2014-05-05</td>\n",
       "      <td>Android</td>\n",
       "      <td>0.0</td>\n",
       "      <td>False</td>\n",
       "      <td>50.0</td>\n",
       "      <td>8.26</td>\n",
       "      <td>5.0</td>\n",
       "      <td>0</td>\n",
       "    </tr>\n",
       "    <tr>\n",
       "      <th>2</th>\n",
       "      <td>Astapor</td>\n",
       "      <td>3</td>\n",
       "      <td>2014-01-06</td>\n",
       "      <td>4.3</td>\n",
       "      <td>1.00</td>\n",
       "      <td>2014-01-07</td>\n",
       "      <td>iPhone</td>\n",
       "      <td>0.0</td>\n",
       "      <td>False</td>\n",
       "      <td>100.0</td>\n",
       "      <td>0.77</td>\n",
       "      <td>5.0</td>\n",
       "      <td>0</td>\n",
       "    </tr>\n",
       "    <tr>\n",
       "      <th>3</th>\n",
       "      <td>King's Landing</td>\n",
       "      <td>9</td>\n",
       "      <td>2014-01-10</td>\n",
       "      <td>4.6</td>\n",
       "      <td>1.14</td>\n",
       "      <td>2014-06-29</td>\n",
       "      <td>iPhone</td>\n",
       "      <td>20.0</td>\n",
       "      <td>True</td>\n",
       "      <td>80.0</td>\n",
       "      <td>2.36</td>\n",
       "      <td>4.9</td>\n",
       "      <td>1</td>\n",
       "    </tr>\n",
       "    <tr>\n",
       "      <th>4</th>\n",
       "      <td>Winterfell</td>\n",
       "      <td>14</td>\n",
       "      <td>2014-01-27</td>\n",
       "      <td>4.4</td>\n",
       "      <td>1.19</td>\n",
       "      <td>2014-03-15</td>\n",
       "      <td>Android</td>\n",
       "      <td>11.8</td>\n",
       "      <td>False</td>\n",
       "      <td>82.4</td>\n",
       "      <td>3.13</td>\n",
       "      <td>4.9</td>\n",
       "      <td>0</td>\n",
       "    </tr>\n",
       "  </tbody>\n",
       "</table>\n",
       "</div>"
      ],
      "text/plain": [
       "             city  trips_in_first_30_days signup_date  avg_rating_of_driver  \\\n",
       "0  King's Landing                       4  2014-01-25                   4.7   \n",
       "1         Astapor                       0  2014-01-29                   5.0   \n",
       "2         Astapor                       3  2014-01-06                   4.3   \n",
       "3  King's Landing                       9  2014-01-10                   4.6   \n",
       "4      Winterfell                      14  2014-01-27                   4.4   \n",
       "\n",
       "   avg_surge last_trip_date    phone  surge_pct  ultimate_black_user  \\\n",
       "0       1.10     2014-06-17   iPhone       15.4                 True   \n",
       "1       1.00     2014-05-05  Android        0.0                False   \n",
       "2       1.00     2014-01-07   iPhone        0.0                False   \n",
       "3       1.14     2014-06-29   iPhone       20.0                 True   \n",
       "4       1.19     2014-03-15  Android       11.8                False   \n",
       "\n",
       "   weekday_pct  avg_dist  avg_rating_by_driver  retained  \n",
       "0         46.2      3.67                   5.0         1  \n",
       "1         50.0      8.26                   5.0         0  \n",
       "2        100.0      0.77                   5.0         0  \n",
       "3         80.0      2.36                   4.9         1  \n",
       "4         82.4      3.13                   4.9         0  "
      ]
     },
     "execution_count": 24,
     "metadata": {},
     "output_type": "execute_result"
    }
   ],
   "source": [
    "df.head()"
   ]
  },
  {
   "cell_type": "markdown",
   "metadata": {},
   "source": [
    "Create he heat map to see the correlations between features."
   ]
  },
  {
   "cell_type": "code",
   "execution_count": 25,
   "metadata": {},
   "outputs": [
    {
     "data": {
      "text/plain": [
       "(array([0.5, 1.5, 2.5, 3.5, 4.5, 5.5, 6.5, 7.5, 8.5]),\n",
       " [Text(0, 0.5, 'trips_in_first_30_days'),\n",
       "  Text(0, 1.5, 'avg_rating_of_driver'),\n",
       "  Text(0, 2.5, 'avg_surge'),\n",
       "  Text(0, 3.5, 'surge_pct'),\n",
       "  Text(0, 4.5, 'ultimate_black_user'),\n",
       "  Text(0, 5.5, 'weekday_pct'),\n",
       "  Text(0, 6.5, 'avg_dist'),\n",
       "  Text(0, 7.5, 'avg_rating_by_driver'),\n",
       "  Text(0, 8.5, 'retained')])"
      ]
     },
     "execution_count": 25,
     "metadata": {},
     "output_type": "execute_result"
    },
    {
     "data": {
      "image/png": "[encoded data removed]",
      "text/plain": [
       "<Figure size 864x720 with 2 Axes>"
      ]
     },
     "metadata": {
      "needs_background": "light"
     },
     "output_type": "display_data"
    }
   ],
   "source": [
    "plt.figure(figsize=(12,10))\n",
    "sns.heatmap(df.corr(), annot=True, cmap=\"YlGnBu\")\n",
    "plt.xticks(fontsize=15)\n",
    "plt.yticks(fontsize=15)"
   ]
  },
  {
   "cell_type": "markdown",
   "metadata": {},
   "source": [
    "`trips_in_first_30_days` and `ultimate_black_user` have relatively higher correlation to the target: `retained`."
   ]
  },
  {
   "cell_type": "markdown",
   "metadata": {},
   "source": [
    "### 3.4 Pre-processing and Training"
   ]
  },
  {
   "cell_type": "markdown",
   "metadata": {},
   "source": [
    "create dummies for `city` and `phone`. "
   ]
  },
  {
   "cell_type": "code",
   "execution_count": 26,
   "metadata": {},
   "outputs": [],
   "source": [
    "df_dummies = pd.get_dummies(df, columns=['city', 'phone'])"
   ]
  },
  {
   "cell_type": "markdown",
   "metadata": {},
   "source": [
    "change True and False values in the `ultimate_black_user` column to 1 and 0."
   ]
  },
  {
   "cell_type": "code",
   "execution_count": 27,
   "metadata": {},
   "outputs": [],
   "source": [
    "df_dummies['ultimate_black_user'] = df_dummies['ultimate_black_user'].astype(int)"
   ]
  },
  {
   "cell_type": "code",
   "execution_count": 28,
   "metadata": {},
   "outputs": [
    {
     "data": {
      "text/html": [
       "<div>\n",
       "<style scoped>\n",
       "    .dataframe tbody tr th:only-of-type {\n",
       "        vertical-align: middle;\n",
       "    }\n",
       "\n",
       "    .dataframe tbody tr th {\n",
       "        vertical-align: top;\n",
       "    }\n",
       "\n",
       "    .dataframe thead th {\n",
       "        text-align: right;\n",
       "    }\n",
       "</style>\n",
       "<table border=\"1\" class=\"dataframe\">\n",
       "  <thead>\n",
       "    <tr style=\"text-align: right;\">\n",
       "      <th></th>\n",
       "      <th>trips_in_first_30_days</th>\n",
       "      <th>signup_date</th>\n",
       "      <th>avg_rating_of_driver</th>\n",
       "      <th>avg_surge</th>\n",
       "      <th>last_trip_date</th>\n",
       "      <th>surge_pct</th>\n",
       "      <th>ultimate_black_user</th>\n",
       "      <th>weekday_pct</th>\n",
       "      <th>avg_dist</th>\n",
       "      <th>avg_rating_by_driver</th>\n",
       "      <th>retained</th>\n",
       "      <th>city_Astapor</th>\n",
       "      <th>city_King's Landing</th>\n",
       "      <th>city_Winterfell</th>\n",
       "      <th>phone_Android</th>\n",
       "      <th>phone_NA</th>\n",
       "      <th>phone_iPhone</th>\n",
       "    </tr>\n",
       "  </thead>\n",
       "  <tbody>\n",
       "    <tr>\n",
       "      <th>0</th>\n",
       "      <td>4</td>\n",
       "      <td>2014-01-25</td>\n",
       "      <td>4.7</td>\n",
       "      <td>1.10</td>\n",
       "      <td>2014-06-17</td>\n",
       "      <td>15.4</td>\n",
       "      <td>1</td>\n",
       "      <td>46.2</td>\n",
       "      <td>3.67</td>\n",
       "      <td>5.0</td>\n",
       "      <td>1</td>\n",
       "      <td>0</td>\n",
       "      <td>1</td>\n",
       "      <td>0</td>\n",
       "      <td>0</td>\n",
       "      <td>0</td>\n",
       "      <td>1</td>\n",
       "    </tr>\n",
       "    <tr>\n",
       "      <th>1</th>\n",
       "      <td>0</td>\n",
       "      <td>2014-01-29</td>\n",
       "      <td>5.0</td>\n",
       "      <td>1.00</td>\n",
       "      <td>2014-05-05</td>\n",
       "      <td>0.0</td>\n",
       "      <td>0</td>\n",
       "      <td>50.0</td>\n",
       "      <td>8.26</td>\n",
       "      <td>5.0</td>\n",
       "      <td>0</td>\n",
       "      <td>1</td>\n",
       "      <td>0</td>\n",
       "      <td>0</td>\n",
       "      <td>1</td>\n",
       "      <td>0</td>\n",
       "      <td>0</td>\n",
       "    </tr>\n",
       "    <tr>\n",
       "      <th>2</th>\n",
       "      <td>3</td>\n",
       "      <td>2014-01-06</td>\n",
       "      <td>4.3</td>\n",
       "      <td>1.00</td>\n",
       "      <td>2014-01-07</td>\n",
       "      <td>0.0</td>\n",
       "      <td>0</td>\n",
       "      <td>100.0</td>\n",
       "      <td>0.77</td>\n",
       "      <td>5.0</td>\n",
       "      <td>0</td>\n",
       "      <td>1</td>\n",
       "      <td>0</td>\n",
       "      <td>0</td>\n",
       "      <td>0</td>\n",
       "      <td>0</td>\n",
       "      <td>1</td>\n",
       "    </tr>\n",
       "    <tr>\n",
       "      <th>3</th>\n",
       "      <td>9</td>\n",
       "      <td>2014-01-10</td>\n",
       "      <td>4.6</td>\n",
       "      <td>1.14</td>\n",
       "      <td>2014-06-29</td>\n",
       "      <td>20.0</td>\n",
       "      <td>1</td>\n",
       "      <td>80.0</td>\n",
       "      <td>2.36</td>\n",
       "      <td>4.9</td>\n",
       "      <td>1</td>\n",
       "      <td>0</td>\n",
       "      <td>1</td>\n",
       "      <td>0</td>\n",
       "      <td>0</td>\n",
       "      <td>0</td>\n",
       "      <td>1</td>\n",
       "    </tr>\n",
       "    <tr>\n",
       "      <th>4</th>\n",
       "      <td>14</td>\n",
       "      <td>2014-01-27</td>\n",
       "      <td>4.4</td>\n",
       "      <td>1.19</td>\n",
       "      <td>2014-03-15</td>\n",
       "      <td>11.8</td>\n",
       "      <td>0</td>\n",
       "      <td>82.4</td>\n",
       "      <td>3.13</td>\n",
       "      <td>4.9</td>\n",
       "      <td>0</td>\n",
       "      <td>0</td>\n",
       "      <td>0</td>\n",
       "      <td>1</td>\n",
       "      <td>1</td>\n",
       "      <td>0</td>\n",
       "      <td>0</td>\n",
       "    </tr>\n",
       "  </tbody>\n",
       "</table>\n",
       "</div>"
      ],
      "text/plain": [
       "   trips_in_first_30_days signup_date  avg_rating_of_driver  avg_surge  \\\n",
       "0                       4  2014-01-25                   4.7       1.10   \n",
       "1                       0  2014-01-29                   5.0       1.00   \n",
       "2                       3  2014-01-06                   4.3       1.00   \n",
       "3                       9  2014-01-10                   4.6       1.14   \n",
       "4                      14  2014-01-27                   4.4       1.19   \n",
       "\n",
       "  last_trip_date  surge_pct  ultimate_black_user  weekday_pct  avg_dist  \\\n",
       "0     2014-06-17       15.4                    1         46.2      3.67   \n",
       "1     2014-05-05        0.0                    0         50.0      8.26   \n",
       "2     2014-01-07        0.0                    0        100.0      0.77   \n",
       "3     2014-06-29       20.0                    1         80.0      2.36   \n",
       "4     2014-03-15       11.8                    0         82.4      3.13   \n",
       "\n",
       "   avg_rating_by_driver  retained  city_Astapor  city_King's Landing  \\\n",
       "0                   5.0         1             0                    1   \n",
       "1                   5.0         0             1                    0   \n",
       "2                   5.0         0             1                    0   \n",
       "3                   4.9         1             0                    1   \n",
       "4                   4.9         0             0                    0   \n",
       "\n",
       "   city_Winterfell  phone_Android  phone_NA  phone_iPhone  \n",
       "0                0              0         0             1  \n",
       "1                0              1         0             0  \n",
       "2                0              0         0             1  \n",
       "3                0              0         0             1  \n",
       "4                1              1         0             0  "
      ]
     },
     "execution_count": 28,
     "metadata": {},
     "output_type": "execute_result"
    }
   ],
   "source": [
    "df_dummies.head()"
   ]
  },
  {
   "cell_type": "markdown",
   "metadata": {},
   "source": [
    "Next, we only want to keep the features that will be used in modeling. We will keep `trips_in_first_30_days`, `avg_rating_of_driver`, `avg_surge`, `surge_pct`, `ultimate_black_user`, `weekday_pct`, `avg_dist`, `\tavg_rating_by_driver`, `city_Astapor`, `city_King's Landing`, `city_Winterfell`, `phone_Android`, `phone_NA`, `phone_iPhone`, and `retained` - which is the target."
   ]
  },
  {
   "cell_type": "code",
   "execution_count": 29,
   "metadata": {},
   "outputs": [],
   "source": [
    "df = df_dummies[['trips_in_first_30_days', 'avg_rating_of_driver', 'avg_surge', 'surge_pct', 'ultimate_black_user', \n",
    "                'weekday_pct', 'avg_dist', 'avg_rating_by_driver', 'city_Astapor', \"city_King's Landing\", \n",
    "                'city_Winterfell', 'phone_Android', 'phone_NA', 'phone_iPhone', 'retained']]"
   ]
  },
  {
   "cell_type": "code",
   "execution_count": 30,
   "metadata": {},
   "outputs": [
    {
     "data": {
      "text/html": [
       "<div>\n",
       "<style scoped>\n",
       "    .dataframe tbody tr th:only-of-type {\n",
       "        vertical-align: middle;\n",
       "    }\n",
       "\n",
       "    .dataframe tbody tr th {\n",
       "        vertical-align: top;\n",
       "    }\n",
       "\n",
       "    .dataframe thead th {\n",
       "        text-align: right;\n",
       "    }\n",
       "</style>\n",
       "<table border=\"1\" class=\"dataframe\">\n",
       "  <thead>\n",
       "    <tr style=\"text-align: right;\">\n",
       "      <th></th>\n",
       "      <th>trips_in_first_30_days</th>\n",
       "      <th>avg_rating_of_driver</th>\n",
       "      <th>avg_surge</th>\n",
       "      <th>surge_pct</th>\n",
       "      <th>ultimate_black_user</th>\n",
       "      <th>weekday_pct</th>\n",
       "      <th>avg_dist</th>\n",
       "      <th>avg_rating_by_driver</th>\n",
       "      <th>city_Astapor</th>\n",
       "      <th>city_King's Landing</th>\n",
       "      <th>city_Winterfell</th>\n",
       "      <th>phone_Android</th>\n",
       "      <th>phone_NA</th>\n",
       "      <th>phone_iPhone</th>\n",
       "      <th>retained</th>\n",
       "    </tr>\n",
       "  </thead>\n",
       "  <tbody>\n",
       "    <tr>\n",
       "      <th>0</th>\n",
       "      <td>4</td>\n",
       "      <td>4.7</td>\n",
       "      <td>1.10</td>\n",
       "      <td>15.4</td>\n",
       "      <td>1</td>\n",
       "      <td>46.2</td>\n",
       "      <td>3.67</td>\n",
       "      <td>5.0</td>\n",
       "      <td>0</td>\n",
       "      <td>1</td>\n",
       "      <td>0</td>\n",
       "      <td>0</td>\n",
       "      <td>0</td>\n",
       "      <td>1</td>\n",
       "      <td>1</td>\n",
       "    </tr>\n",
       "    <tr>\n",
       "      <th>1</th>\n",
       "      <td>0</td>\n",
       "      <td>5.0</td>\n",
       "      <td>1.00</td>\n",
       "      <td>0.0</td>\n",
       "      <td>0</td>\n",
       "      <td>50.0</td>\n",
       "      <td>8.26</td>\n",
       "      <td>5.0</td>\n",
       "      <td>1</td>\n",
       "      <td>0</td>\n",
       "      <td>0</td>\n",
       "      <td>1</td>\n",
       "      <td>0</td>\n",
       "      <td>0</td>\n",
       "      <td>0</td>\n",
       "    </tr>\n",
       "    <tr>\n",
       "      <th>2</th>\n",
       "      <td>3</td>\n",
       "      <td>4.3</td>\n",
       "      <td>1.00</td>\n",
       "      <td>0.0</td>\n",
       "      <td>0</td>\n",
       "      <td>100.0</td>\n",
       "      <td>0.77</td>\n",
       "      <td>5.0</td>\n",
       "      <td>1</td>\n",
       "      <td>0</td>\n",
       "      <td>0</td>\n",
       "      <td>0</td>\n",
       "      <td>0</td>\n",
       "      <td>1</td>\n",
       "      <td>0</td>\n",
       "    </tr>\n",
       "    <tr>\n",
       "      <th>3</th>\n",
       "      <td>9</td>\n",
       "      <td>4.6</td>\n",
       "      <td>1.14</td>\n",
       "      <td>20.0</td>\n",
       "      <td>1</td>\n",
       "      <td>80.0</td>\n",
       "      <td>2.36</td>\n",
       "      <td>4.9</td>\n",
       "      <td>0</td>\n",
       "      <td>1</td>\n",
       "      <td>0</td>\n",
       "      <td>0</td>\n",
       "      <td>0</td>\n",
       "      <td>1</td>\n",
       "      <td>1</td>\n",
       "    </tr>\n",
       "    <tr>\n",
       "      <th>4</th>\n",
       "      <td>14</td>\n",
       "      <td>4.4</td>\n",
       "      <td>1.19</td>\n",
       "      <td>11.8</td>\n",
       "      <td>0</td>\n",
       "      <td>82.4</td>\n",
       "      <td>3.13</td>\n",
       "      <td>4.9</td>\n",
       "      <td>0</td>\n",
       "      <td>0</td>\n",
       "      <td>1</td>\n",
       "      <td>1</td>\n",
       "      <td>0</td>\n",
       "      <td>0</td>\n",
       "      <td>0</td>\n",
       "    </tr>\n",
       "  </tbody>\n",
       "</table>\n",
       "</div>"
      ],
      "text/plain": [
       "   trips_in_first_30_days  avg_rating_of_driver  avg_surge  surge_pct  \\\n",
       "0                       4                   4.7       1.10       15.4   \n",
       "1                       0                   5.0       1.00        0.0   \n",
       "2                       3                   4.3       1.00        0.0   \n",
       "3                       9                   4.6       1.14       20.0   \n",
       "4                      14                   4.4       1.19       11.8   \n",
       "\n",
       "   ultimate_black_user  weekday_pct  avg_dist  avg_rating_by_driver  \\\n",
       "0                    1         46.2      3.67                   5.0   \n",
       "1                    0         50.0      8.26                   5.0   \n",
       "2                    0        100.0      0.77                   5.0   \n",
       "3                    1         80.0      2.36                   4.9   \n",
       "4                    0         82.4      3.13                   4.9   \n",
       "\n",
       "   city_Astapor  city_King's Landing  city_Winterfell  phone_Android  \\\n",
       "0             0                    1                0              0   \n",
       "1             1                    0                0              1   \n",
       "2             1                    0                0              0   \n",
       "3             0                    1                0              0   \n",
       "4             0                    0                1              1   \n",
       "\n",
       "   phone_NA  phone_iPhone  retained  \n",
       "0         0             1         1  \n",
       "1         0             0         0  \n",
       "2         0             1         0  \n",
       "3         0             1         1  \n",
       "4         0             0         0  "
      ]
     },
     "execution_count": 30,
     "metadata": {},
     "output_type": "execute_result"
    }
   ],
   "source": [
    "df.head()"
   ]
  },
  {
   "cell_type": "markdown",
   "metadata": {},
   "source": [
    "Split the dataset to train and test datasets."
   ]
  },
  {
   "cell_type": "code",
   "execution_count": 31,
   "metadata": {},
   "outputs": [
    {
     "name": "stdout",
     "output_type": "stream",
     "text": [
      "(35000, 15) (15000, 15)\n"
     ]
    }
   ],
   "source": [
    "from sklearn.model_selection import train_test_split, cross_validate, GridSearchCV, learning_curve\n",
    "\n",
    "train, test = train_test_split(df, test_size=0.3, random_state=42, shuffle=True)\n",
    "print(train.shape, test.shape)"
   ]
  },
  {
   "cell_type": "markdown",
   "metadata": {},
   "source": [
    "### 3.5 Modeling"
   ]
  },
  {
   "cell_type": "markdown",
   "metadata": {},
   "source": [
    "Use pycaret to find the best models."
   ]
  },
  {
   "cell_type": "code",
   "execution_count": 32,
   "metadata": {},
   "outputs": [
    {
     "data": {
      "text/html": [
       "<style type=\"text/css\">\n",
       "</style>\n",
       "<table id=\"T_c8515\">\n",
       "  <thead>\n",
       "    <tr>\n",
       "      <th class=\"blank level0\" >&nbsp;</th>\n",
       "      <th id=\"T_c8515_level0_col0\" class=\"col_heading level0 col0\" >Description</th>\n",
       "      <th id=\"T_c8515_level0_col1\" class=\"col_heading level0 col1\" >Value</th>\n",
       "    </tr>\n",
       "  </thead>\n",
       "  <tbody>\n",
       "    <tr>\n",
       "      <th id=\"T_c8515_level0_row0\" class=\"row_heading level0 row0\" >0</th>\n",
       "      <td id=\"T_c8515_row0_col0\" class=\"data row0 col0\" >session_id</td>\n",
       "      <td id=\"T_c8515_row0_col1\" class=\"data row0 col1\" >42</td>\n",
       "    </tr>\n",
       "    <tr>\n",
       "      <th id=\"T_c8515_level0_row1\" class=\"row_heading level0 row1\" >1</th>\n",
       "      <td id=\"T_c8515_row1_col0\" class=\"data row1 col0\" >Target</td>\n",
       "      <td id=\"T_c8515_row1_col1\" class=\"data row1 col1\" >retained</td>\n",
       "    </tr>\n",
       "    <tr>\n",
       "      <th id=\"T_c8515_level0_row2\" class=\"row_heading level0 row2\" >2</th>\n",
       "      <td id=\"T_c8515_row2_col0\" class=\"data row2 col0\" >Target Type</td>\n",
       "      <td id=\"T_c8515_row2_col1\" class=\"data row2 col1\" >Binary</td>\n",
       "    </tr>\n",
       "    <tr>\n",
       "      <th id=\"T_c8515_level0_row3\" class=\"row_heading level0 row3\" >3</th>\n",
       "      <td id=\"T_c8515_row3_col0\" class=\"data row3 col0\" >Label Encoded</td>\n",
       "      <td id=\"T_c8515_row3_col1\" class=\"data row3 col1\" >None</td>\n",
       "    </tr>\n",
       "    <tr>\n",
       "      <th id=\"T_c8515_level0_row4\" class=\"row_heading level0 row4\" >4</th>\n",
       "      <td id=\"T_c8515_row4_col0\" class=\"data row4 col0\" >Original Data</td>\n",
       "      <td id=\"T_c8515_row4_col1\" class=\"data row4 col1\" >(50000, 15)</td>\n",
       "    </tr>\n",
       "    <tr>\n",
       "      <th id=\"T_c8515_level0_row5\" class=\"row_heading level0 row5\" >5</th>\n",
       "      <td id=\"T_c8515_row5_col0\" class=\"data row5 col0\" >Missing Values</td>\n",
       "      <td id=\"T_c8515_row5_col1\" class=\"data row5 col1\" >False</td>\n",
       "    </tr>\n",
       "    <tr>\n",
       "      <th id=\"T_c8515_level0_row6\" class=\"row_heading level0 row6\" >6</th>\n",
       "      <td id=\"T_c8515_row6_col0\" class=\"data row6 col0\" >Numeric Features</td>\n",
       "      <td id=\"T_c8515_row6_col1\" class=\"data row6 col1\" >14</td>\n",
       "    </tr>\n",
       "    <tr>\n",
       "      <th id=\"T_c8515_level0_row7\" class=\"row_heading level0 row7\" >7</th>\n",
       "      <td id=\"T_c8515_row7_col0\" class=\"data row7 col0\" >Categorical Features</td>\n",
       "      <td id=\"T_c8515_row7_col1\" class=\"data row7 col1\" >0</td>\n",
       "    </tr>\n",
       "    <tr>\n",
       "      <th id=\"T_c8515_level0_row8\" class=\"row_heading level0 row8\" >8</th>\n",
       "      <td id=\"T_c8515_row8_col0\" class=\"data row8 col0\" >Ordinal Features</td>\n",
       "      <td id=\"T_c8515_row8_col1\" class=\"data row8 col1\" >False</td>\n",
       "    </tr>\n",
       "    <tr>\n",
       "      <th id=\"T_c8515_level0_row9\" class=\"row_heading level0 row9\" >9</th>\n",
       "      <td id=\"T_c8515_row9_col0\" class=\"data row9 col0\" >High Cardinality Features</td>\n",
       "      <td id=\"T_c8515_row9_col1\" class=\"data row9 col1\" >False</td>\n",
       "    </tr>\n",
       "    <tr>\n",
       "      <th id=\"T_c8515_level0_row10\" class=\"row_heading level0 row10\" >10</th>\n",
       "      <td id=\"T_c8515_row10_col0\" class=\"data row10 col0\" >High Cardinality Method</td>\n",
       "      <td id=\"T_c8515_row10_col1\" class=\"data row10 col1\" >None</td>\n",
       "    </tr>\n",
       "    <tr>\n",
       "      <th id=\"T_c8515_level0_row11\" class=\"row_heading level0 row11\" >11</th>\n",
       "      <td id=\"T_c8515_row11_col0\" class=\"data row11 col0\" >Transformed Train Set</td>\n",
       "      <td id=\"T_c8515_row11_col1\" class=\"data row11 col1\" >(34999, 14)</td>\n",
       "    </tr>\n",
       "    <tr>\n",
       "      <th id=\"T_c8515_level0_row12\" class=\"row_heading level0 row12\" >12</th>\n",
       "      <td id=\"T_c8515_row12_col0\" class=\"data row12 col0\" >Transformed Test Set</td>\n",
       "      <td id=\"T_c8515_row12_col1\" class=\"data row12 col1\" >(15001, 14)</td>\n",
       "    </tr>\n",
       "    <tr>\n",
       "      <th id=\"T_c8515_level0_row13\" class=\"row_heading level0 row13\" >13</th>\n",
       "      <td id=\"T_c8515_row13_col0\" class=\"data row13 col0\" >Shuffle Train-Test</td>\n",
       "      <td id=\"T_c8515_row13_col1\" class=\"data row13 col1\" >True</td>\n",
       "    </tr>\n",
       "    <tr>\n",
       "      <th id=\"T_c8515_level0_row14\" class=\"row_heading level0 row14\" >14</th>\n",
       "      <td id=\"T_c8515_row14_col0\" class=\"data row14 col0\" >Stratify Train-Test</td>\n",
       "      <td id=\"T_c8515_row14_col1\" class=\"data row14 col1\" >False</td>\n",
       "    </tr>\n",
       "    <tr>\n",
       "      <th id=\"T_c8515_level0_row15\" class=\"row_heading level0 row15\" >15</th>\n",
       "      <td id=\"T_c8515_row15_col0\" class=\"data row15 col0\" >Fold Generator</td>\n",
       "      <td id=\"T_c8515_row15_col1\" class=\"data row15 col1\" >StratifiedKFold</td>\n",
       "    </tr>\n",
       "    <tr>\n",
       "      <th id=\"T_c8515_level0_row16\" class=\"row_heading level0 row16\" >16</th>\n",
       "      <td id=\"T_c8515_row16_col0\" class=\"data row16 col0\" >Fold Number</td>\n",
       "      <td id=\"T_c8515_row16_col1\" class=\"data row16 col1\" >10</td>\n",
       "    </tr>\n",
       "    <tr>\n",
       "      <th id=\"T_c8515_level0_row17\" class=\"row_heading level0 row17\" >17</th>\n",
       "      <td id=\"T_c8515_row17_col0\" class=\"data row17 col0\" >CPU Jobs</td>\n",
       "      <td id=\"T_c8515_row17_col1\" class=\"data row17 col1\" >-1</td>\n",
       "    </tr>\n",
       "    <tr>\n",
       "      <th id=\"T_c8515_level0_row18\" class=\"row_heading level0 row18\" >18</th>\n",
       "      <td id=\"T_c8515_row18_col0\" class=\"data row18 col0\" >Use GPU</td>\n",
       "      <td id=\"T_c8515_row18_col1\" class=\"data row18 col1\" >False</td>\n",
       "    </tr>\n",
       "    <tr>\n",
       "      <th id=\"T_c8515_level0_row19\" class=\"row_heading level0 row19\" >19</th>\n",
       "      <td id=\"T_c8515_row19_col0\" class=\"data row19 col0\" >Log Experiment</td>\n",
       "      <td id=\"T_c8515_row19_col1\" class=\"data row19 col1\" >False</td>\n",
       "    </tr>\n",
       "    <tr>\n",
       "      <th id=\"T_c8515_level0_row20\" class=\"row_heading level0 row20\" >20</th>\n",
       "      <td id=\"T_c8515_row20_col0\" class=\"data row20 col0\" >Experiment Name</td>\n",
       "      <td id=\"T_c8515_row20_col1\" class=\"data row20 col1\" >clf-default-name</td>\n",
       "    </tr>\n",
       "    <tr>\n",
       "      <th id=\"T_c8515_level0_row21\" class=\"row_heading level0 row21\" >21</th>\n",
       "      <td id=\"T_c8515_row21_col0\" class=\"data row21 col0\" >USI</td>\n",
       "      <td id=\"T_c8515_row21_col1\" class=\"data row21 col1\" >bf32</td>\n",
       "    </tr>\n",
       "    <tr>\n",
       "      <th id=\"T_c8515_level0_row22\" class=\"row_heading level0 row22\" >22</th>\n",
       "      <td id=\"T_c8515_row22_col0\" class=\"data row22 col0\" >Imputation Type</td>\n",
       "      <td id=\"T_c8515_row22_col1\" class=\"data row22 col1\" >simple</td>\n",
       "    </tr>\n",
       "    <tr>\n",
       "      <th id=\"T_c8515_level0_row23\" class=\"row_heading level0 row23\" >23</th>\n",
       "      <td id=\"T_c8515_row23_col0\" class=\"data row23 col0\" >Iterative Imputation Iteration</td>\n",
       "      <td id=\"T_c8515_row23_col1\" class=\"data row23 col1\" >None</td>\n",
       "    </tr>\n",
       "    <tr>\n",
       "      <th id=\"T_c8515_level0_row24\" class=\"row_heading level0 row24\" >24</th>\n",
       "      <td id=\"T_c8515_row24_col0\" class=\"data row24 col0\" >Numeric Imputer</td>\n",
       "      <td id=\"T_c8515_row24_col1\" class=\"data row24 col1\" >mean</td>\n",
       "    </tr>\n",
       "    <tr>\n",
       "      <th id=\"T_c8515_level0_row25\" class=\"row_heading level0 row25\" >25</th>\n",
       "      <td id=\"T_c8515_row25_col0\" class=\"data row25 col0\" >Iterative Imputation Numeric Model</td>\n",
       "      <td id=\"T_c8515_row25_col1\" class=\"data row25 col1\" >None</td>\n",
       "    </tr>\n",
       "    <tr>\n",
       "      <th id=\"T_c8515_level0_row26\" class=\"row_heading level0 row26\" >26</th>\n",
       "      <td id=\"T_c8515_row26_col0\" class=\"data row26 col0\" >Categorical Imputer</td>\n",
       "      <td id=\"T_c8515_row26_col1\" class=\"data row26 col1\" >constant</td>\n",
       "    </tr>\n",
       "    <tr>\n",
       "      <th id=\"T_c8515_level0_row27\" class=\"row_heading level0 row27\" >27</th>\n",
       "      <td id=\"T_c8515_row27_col0\" class=\"data row27 col0\" >Iterative Imputation Categorical Model</td>\n",
       "      <td id=\"T_c8515_row27_col1\" class=\"data row27 col1\" >None</td>\n",
       "    </tr>\n",
       "    <tr>\n",
       "      <th id=\"T_c8515_level0_row28\" class=\"row_heading level0 row28\" >28</th>\n",
       "      <td id=\"T_c8515_row28_col0\" class=\"data row28 col0\" >Unknown Categoricals Handling</td>\n",
       "      <td id=\"T_c8515_row28_col1\" class=\"data row28 col1\" >least_frequent</td>\n",
       "    </tr>\n",
       "    <tr>\n",
       "      <th id=\"T_c8515_level0_row29\" class=\"row_heading level0 row29\" >29</th>\n",
       "      <td id=\"T_c8515_row29_col0\" class=\"data row29 col0\" >Normalize</td>\n",
       "      <td id=\"T_c8515_row29_col1\" class=\"data row29 col1\" >False</td>\n",
       "    </tr>\n",
       "    <tr>\n",
       "      <th id=\"T_c8515_level0_row30\" class=\"row_heading level0 row30\" >30</th>\n",
       "      <td id=\"T_c8515_row30_col0\" class=\"data row30 col0\" >Normalize Method</td>\n",
       "      <td id=\"T_c8515_row30_col1\" class=\"data row30 col1\" >None</td>\n",
       "    </tr>\n",
       "    <tr>\n",
       "      <th id=\"T_c8515_level0_row31\" class=\"row_heading level0 row31\" >31</th>\n",
       "      <td id=\"T_c8515_row31_col0\" class=\"data row31 col0\" >Transformation</td>\n",
       "      <td id=\"T_c8515_row31_col1\" class=\"data row31 col1\" >False</td>\n",
       "    </tr>\n",
       "    <tr>\n",
       "      <th id=\"T_c8515_level0_row32\" class=\"row_heading level0 row32\" >32</th>\n",
       "      <td id=\"T_c8515_row32_col0\" class=\"data row32 col0\" >Transformation Method</td>\n",
       "      <td id=\"T_c8515_row32_col1\" class=\"data row32 col1\" >None</td>\n",
       "    </tr>\n",
       "    <tr>\n",
       "      <th id=\"T_c8515_level0_row33\" class=\"row_heading level0 row33\" >33</th>\n",
       "      <td id=\"T_c8515_row33_col0\" class=\"data row33 col0\" >PCA</td>\n",
       "      <td id=\"T_c8515_row33_col1\" class=\"data row33 col1\" >False</td>\n",
       "    </tr>\n",
       "    <tr>\n",
       "      <th id=\"T_c8515_level0_row34\" class=\"row_heading level0 row34\" >34</th>\n",
       "      <td id=\"T_c8515_row34_col0\" class=\"data row34 col0\" >PCA Method</td>\n",
       "      <td id=\"T_c8515_row34_col1\" class=\"data row34 col1\" >None</td>\n",
       "    </tr>\n",
       "    <tr>\n",
       "      <th id=\"T_c8515_level0_row35\" class=\"row_heading level0 row35\" >35</th>\n",
       "      <td id=\"T_c8515_row35_col0\" class=\"data row35 col0\" >PCA Components</td>\n",
       "      <td id=\"T_c8515_row35_col1\" class=\"data row35 col1\" >None</td>\n",
       "    </tr>\n",
       "    <tr>\n",
       "      <th id=\"T_c8515_level0_row36\" class=\"row_heading level0 row36\" >36</th>\n",
       "      <td id=\"T_c8515_row36_col0\" class=\"data row36 col0\" >Ignore Low Variance</td>\n",
       "      <td id=\"T_c8515_row36_col1\" class=\"data row36 col1\" >False</td>\n",
       "    </tr>\n",
       "    <tr>\n",
       "      <th id=\"T_c8515_level0_row37\" class=\"row_heading level0 row37\" >37</th>\n",
       "      <td id=\"T_c8515_row37_col0\" class=\"data row37 col0\" >Combine Rare Levels</td>\n",
       "      <td id=\"T_c8515_row37_col1\" class=\"data row37 col1\" >False</td>\n",
       "    </tr>\n",
       "    <tr>\n",
       "      <th id=\"T_c8515_level0_row38\" class=\"row_heading level0 row38\" >38</th>\n",
       "      <td id=\"T_c8515_row38_col0\" class=\"data row38 col0\" >Rare Level Threshold</td>\n",
       "      <td id=\"T_c8515_row38_col1\" class=\"data row38 col1\" >None</td>\n",
       "    </tr>\n",
       "    <tr>\n",
       "      <th id=\"T_c8515_level0_row39\" class=\"row_heading level0 row39\" >39</th>\n",
       "      <td id=\"T_c8515_row39_col0\" class=\"data row39 col0\" >Numeric Binning</td>\n",
       "      <td id=\"T_c8515_row39_col1\" class=\"data row39 col1\" >False</td>\n",
       "    </tr>\n",
       "    <tr>\n",
       "      <th id=\"T_c8515_level0_row40\" class=\"row_heading level0 row40\" >40</th>\n",
       "      <td id=\"T_c8515_row40_col0\" class=\"data row40 col0\" >Remove Outliers</td>\n",
       "      <td id=\"T_c8515_row40_col1\" class=\"data row40 col1\" >False</td>\n",
       "    </tr>\n",
       "    <tr>\n",
       "      <th id=\"T_c8515_level0_row41\" class=\"row_heading level0 row41\" >41</th>\n",
       "      <td id=\"T_c8515_row41_col0\" class=\"data row41 col0\" >Outliers Threshold</td>\n",
       "      <td id=\"T_c8515_row41_col1\" class=\"data row41 col1\" >None</td>\n",
       "    </tr>\n",
       "    <tr>\n",
       "      <th id=\"T_c8515_level0_row42\" class=\"row_heading level0 row42\" >42</th>\n",
       "      <td id=\"T_c8515_row42_col0\" class=\"data row42 col0\" >Remove Multicollinearity</td>\n",
       "      <td id=\"T_c8515_row42_col1\" class=\"data row42 col1\" >False</td>\n",
       "    </tr>\n",
       "    <tr>\n",
       "      <th id=\"T_c8515_level0_row43\" class=\"row_heading level0 row43\" >43</th>\n",
       "      <td id=\"T_c8515_row43_col0\" class=\"data row43 col0\" >Multicollinearity Threshold</td>\n",
       "      <td id=\"T_c8515_row43_col1\" class=\"data row43 col1\" >None</td>\n",
       "    </tr>\n",
       "    <tr>\n",
       "      <th id=\"T_c8515_level0_row44\" class=\"row_heading level0 row44\" >44</th>\n",
       "      <td id=\"T_c8515_row44_col0\" class=\"data row44 col0\" >Clustering</td>\n",
       "      <td id=\"T_c8515_row44_col1\" class=\"data row44 col1\" >False</td>\n",
       "    </tr>\n",
       "    <tr>\n",
       "      <th id=\"T_c8515_level0_row45\" class=\"row_heading level0 row45\" >45</th>\n",
       "      <td id=\"T_c8515_row45_col0\" class=\"data row45 col0\" >Clustering Iteration</td>\n",
       "      <td id=\"T_c8515_row45_col1\" class=\"data row45 col1\" >None</td>\n",
       "    </tr>\n",
       "    <tr>\n",
       "      <th id=\"T_c8515_level0_row46\" class=\"row_heading level0 row46\" >46</th>\n",
       "      <td id=\"T_c8515_row46_col0\" class=\"data row46 col0\" >Polynomial Features</td>\n",
       "      <td id=\"T_c8515_row46_col1\" class=\"data row46 col1\" >False</td>\n",
       "    </tr>\n",
       "    <tr>\n",
       "      <th id=\"T_c8515_level0_row47\" class=\"row_heading level0 row47\" >47</th>\n",
       "      <td id=\"T_c8515_row47_col0\" class=\"data row47 col0\" >Polynomial Degree</td>\n",
       "      <td id=\"T_c8515_row47_col1\" class=\"data row47 col1\" >None</td>\n",
       "    </tr>\n",
       "    <tr>\n",
       "      <th id=\"T_c8515_level0_row48\" class=\"row_heading level0 row48\" >48</th>\n",
       "      <td id=\"T_c8515_row48_col0\" class=\"data row48 col0\" >Trignometry Features</td>\n",
       "      <td id=\"T_c8515_row48_col1\" class=\"data row48 col1\" >False</td>\n",
       "    </tr>\n",
       "    <tr>\n",
       "      <th id=\"T_c8515_level0_row49\" class=\"row_heading level0 row49\" >49</th>\n",
       "      <td id=\"T_c8515_row49_col0\" class=\"data row49 col0\" >Polynomial Threshold</td>\n",
       "      <td id=\"T_c8515_row49_col1\" class=\"data row49 col1\" >None</td>\n",
       "    </tr>\n",
       "    <tr>\n",
       "      <th id=\"T_c8515_level0_row50\" class=\"row_heading level0 row50\" >50</th>\n",
       "      <td id=\"T_c8515_row50_col0\" class=\"data row50 col0\" >Group Features</td>\n",
       "      <td id=\"T_c8515_row50_col1\" class=\"data row50 col1\" >False</td>\n",
       "    </tr>\n",
       "    <tr>\n",
       "      <th id=\"T_c8515_level0_row51\" class=\"row_heading level0 row51\" >51</th>\n",
       "      <td id=\"T_c8515_row51_col0\" class=\"data row51 col0\" >Feature Selection</td>\n",
       "      <td id=\"T_c8515_row51_col1\" class=\"data row51 col1\" >False</td>\n",
       "    </tr>\n",
       "    <tr>\n",
       "      <th id=\"T_c8515_level0_row52\" class=\"row_heading level0 row52\" >52</th>\n",
       "      <td id=\"T_c8515_row52_col0\" class=\"data row52 col0\" >Features Selection Threshold</td>\n",
       "      <td id=\"T_c8515_row52_col1\" class=\"data row52 col1\" >None</td>\n",
       "    </tr>\n",
       "    <tr>\n",
       "      <th id=\"T_c8515_level0_row53\" class=\"row_heading level0 row53\" >53</th>\n",
       "      <td id=\"T_c8515_row53_col0\" class=\"data row53 col0\" >Feature Interaction</td>\n",
       "      <td id=\"T_c8515_row53_col1\" class=\"data row53 col1\" >False</td>\n",
       "    </tr>\n",
       "    <tr>\n",
       "      <th id=\"T_c8515_level0_row54\" class=\"row_heading level0 row54\" >54</th>\n",
       "      <td id=\"T_c8515_row54_col0\" class=\"data row54 col0\" >Feature Ratio</td>\n",
       "      <td id=\"T_c8515_row54_col1\" class=\"data row54 col1\" >False</td>\n",
       "    </tr>\n",
       "    <tr>\n",
       "      <th id=\"T_c8515_level0_row55\" class=\"row_heading level0 row55\" >55</th>\n",
       "      <td id=\"T_c8515_row55_col0\" class=\"data row55 col0\" >Interaction Threshold</td>\n",
       "      <td id=\"T_c8515_row55_col1\" class=\"data row55 col1\" >None</td>\n",
       "    </tr>\n",
       "    <tr>\n",
       "      <th id=\"T_c8515_level0_row56\" class=\"row_heading level0 row56\" >56</th>\n",
       "      <td id=\"T_c8515_row56_col0\" class=\"data row56 col0\" >Fix Imbalance</td>\n",
       "      <td id=\"T_c8515_row56_col1\" class=\"data row56 col1\" >False</td>\n",
       "    </tr>\n",
       "    <tr>\n",
       "      <th id=\"T_c8515_level0_row57\" class=\"row_heading level0 row57\" >57</th>\n",
       "      <td id=\"T_c8515_row57_col0\" class=\"data row57 col0\" >Fix Imbalance Method</td>\n",
       "      <td id=\"T_c8515_row57_col1\" class=\"data row57 col1\" >SMOTE</td>\n",
       "    </tr>\n",
       "  </tbody>\n",
       "</table>\n"
      ],
      "text/plain": [
       "<pandas.io.formats.style.Styler at 0x1e0e9f6dd30>"
      ]
     },
     "metadata": {},
     "output_type": "display_data"
    }
   ],
   "source": [
    "from pycaret.classification import *\n",
    "s = setup(data=df, target='retained', fold_shuffle=True, session_id=42)"
   ]
  },
  {
   "cell_type": "code",
   "execution_count": 33,
   "metadata": {},
   "outputs": [
    {
     "data": {
      "text/html": [
       "<style type=\"text/css\">\n",
       "#T_21fa6 th {\n",
       "  text-align: left;\n",
       "}\n",
       "#T_21fa6_row0_col0, #T_21fa6_row0_col3, #T_21fa6_row1_col0, #T_21fa6_row1_col1, #T_21fa6_row1_col2, #T_21fa6_row1_col3, #T_21fa6_row1_col4, #T_21fa6_row1_col5, #T_21fa6_row1_col6, #T_21fa6_row1_col7, #T_21fa6_row2_col0, #T_21fa6_row2_col1, #T_21fa6_row2_col2, #T_21fa6_row2_col3, #T_21fa6_row2_col4, #T_21fa6_row2_col5, #T_21fa6_row2_col6, #T_21fa6_row2_col7, #T_21fa6_row3_col0, #T_21fa6_row3_col1, #T_21fa6_row3_col2, #T_21fa6_row3_col3, #T_21fa6_row3_col4, #T_21fa6_row3_col5, #T_21fa6_row3_col6, #T_21fa6_row3_col7, #T_21fa6_row4_col0, #T_21fa6_row4_col1, #T_21fa6_row4_col2, #T_21fa6_row4_col3, #T_21fa6_row4_col4, #T_21fa6_row4_col5, #T_21fa6_row4_col6, #T_21fa6_row4_col7, #T_21fa6_row5_col0, #T_21fa6_row5_col1, #T_21fa6_row5_col2, #T_21fa6_row5_col3, #T_21fa6_row5_col4, #T_21fa6_row5_col5, #T_21fa6_row5_col6, #T_21fa6_row5_col7, #T_21fa6_row6_col0, #T_21fa6_row6_col1, #T_21fa6_row6_col2, #T_21fa6_row6_col3, #T_21fa6_row6_col4, #T_21fa6_row6_col5, #T_21fa6_row6_col6, #T_21fa6_row6_col7, #T_21fa6_row7_col0, #T_21fa6_row7_col1, #T_21fa6_row7_col2, #T_21fa6_row7_col3, #T_21fa6_row7_col4, #T_21fa6_row7_col5, #T_21fa6_row7_col6, #T_21fa6_row7_col7, #T_21fa6_row8_col0, #T_21fa6_row8_col1, #T_21fa6_row8_col2, #T_21fa6_row8_col3, #T_21fa6_row8_col4, #T_21fa6_row8_col5, #T_21fa6_row8_col6, #T_21fa6_row8_col7, #T_21fa6_row9_col0, #T_21fa6_row9_col1, #T_21fa6_row9_col2, #T_21fa6_row9_col3, #T_21fa6_row9_col4, #T_21fa6_row9_col5, #T_21fa6_row9_col6, #T_21fa6_row9_col7, #T_21fa6_row10_col0, #T_21fa6_row10_col1, #T_21fa6_row10_col2, #T_21fa6_row10_col3, #T_21fa6_row10_col4, #T_21fa6_row10_col5, #T_21fa6_row10_col6, #T_21fa6_row10_col7, #T_21fa6_row11_col0, #T_21fa6_row11_col1, #T_21fa6_row11_col2, #T_21fa6_row11_col3, #T_21fa6_row11_col4, #T_21fa6_row11_col5, #T_21fa6_row11_col6, #T_21fa6_row11_col7, #T_21fa6_row12_col0, #T_21fa6_row12_col1, #T_21fa6_row12_col2, #T_21fa6_row12_col4, #T_21fa6_row12_col5, #T_21fa6_row12_col6, #T_21fa6_row12_col7, #T_21fa6_row13_col0, #T_21fa6_row13_col1, #T_21fa6_row13_col2, #T_21fa6_row13_col3, #T_21fa6_row13_col4, #T_21fa6_row13_col5, #T_21fa6_row13_col6, #T_21fa6_row13_col7, #T_21fa6_row14_col0, #T_21fa6_row14_col1, #T_21fa6_row14_col2, #T_21fa6_row14_col3, #T_21fa6_row14_col4, #T_21fa6_row14_col5, #T_21fa6_row14_col6, #T_21fa6_row14_col7 {\n",
       "  text-align: left;\n",
       "}\n",
       "#T_21fa6_row0_col1, #T_21fa6_row0_col2, #T_21fa6_row0_col4, #T_21fa6_row0_col5, #T_21fa6_row0_col6, #T_21fa6_row0_col7, #T_21fa6_row12_col3 {\n",
       "  text-align: left;\n",
       "  background-color: yellow;\n",
       "}\n",
       "#T_21fa6_row0_col8, #T_21fa6_row1_col8, #T_21fa6_row2_col8, #T_21fa6_row3_col8, #T_21fa6_row4_col8, #T_21fa6_row5_col8, #T_21fa6_row6_col8, #T_21fa6_row7_col8, #T_21fa6_row8_col8, #T_21fa6_row9_col8, #T_21fa6_row10_col8, #T_21fa6_row11_col8, #T_21fa6_row13_col8, #T_21fa6_row14_col8 {\n",
       "  text-align: left;\n",
       "  background-color: lightgrey;\n",
       "}\n",
       "#T_21fa6_row12_col8 {\n",
       "  text-align: left;\n",
       "  background-color: yellow;\n",
       "  background-color: lightgrey;\n",
       "}\n",
       "</style>\n",
       "<table id=\"T_21fa6\">\n",
       "  <thead>\n",
       "    <tr>\n",
       "      <th class=\"blank level0\" >&nbsp;</th>\n",
       "      <th id=\"T_21fa6_level0_col0\" class=\"col_heading level0 col0\" >Model</th>\n",
       "      <th id=\"T_21fa6_level0_col1\" class=\"col_heading level0 col1\" >Accuracy</th>\n",
       "      <th id=\"T_21fa6_level0_col2\" class=\"col_heading level0 col2\" >AUC</th>\n",
       "      <th id=\"T_21fa6_level0_col3\" class=\"col_heading level0 col3\" >Recall</th>\n",
       "      <th id=\"T_21fa6_level0_col4\" class=\"col_heading level0 col4\" >Prec.</th>\n",
       "      <th id=\"T_21fa6_level0_col5\" class=\"col_heading level0 col5\" >F1</th>\n",
       "      <th id=\"T_21fa6_level0_col6\" class=\"col_heading level0 col6\" >Kappa</th>\n",
       "      <th id=\"T_21fa6_level0_col7\" class=\"col_heading level0 col7\" >MCC</th>\n",
       "      <th id=\"T_21fa6_level0_col8\" class=\"col_heading level0 col8\" >TT (Sec)</th>\n",
       "    </tr>\n",
       "  </thead>\n",
       "  <tbody>\n",
       "    <tr>\n",
       "      <th id=\"T_21fa6_level0_row0\" class=\"row_heading level0 row0\" >catboost</th>\n",
       "      <td id=\"T_21fa6_row0_col0\" class=\"data row0 col0\" >CatBoost Classifier</td>\n",
       "      <td id=\"T_21fa6_row0_col1\" class=\"data row0 col1\" >0.7947</td>\n",
       "      <td id=\"T_21fa6_row0_col2\" class=\"data row0 col2\" >0.8615</td>\n",
       "      <td id=\"T_21fa6_row0_col3\" class=\"data row0 col3\" >0.6770</td>\n",
       "      <td id=\"T_21fa6_row0_col4\" class=\"data row0 col4\" >0.7530</td>\n",
       "      <td id=\"T_21fa6_row0_col5\" class=\"data row0 col5\" >0.7129</td>\n",
       "      <td id=\"T_21fa6_row0_col6\" class=\"data row0 col6\" >0.5538</td>\n",
       "      <td id=\"T_21fa6_row0_col7\" class=\"data row0 col7\" >0.5558</td>\n",
       "      <td id=\"T_21fa6_row0_col8\" class=\"data row0 col8\" >4.8680</td>\n",
       "    </tr>\n",
       "    <tr>\n",
       "      <th id=\"T_21fa6_level0_row1\" class=\"row_heading level0 row1\" >lightgbm</th>\n",
       "      <td id=\"T_21fa6_row1_col0\" class=\"data row1 col0\" >Light Gradient Boosting Machine</td>\n",
       "      <td id=\"T_21fa6_row1_col1\" class=\"data row1 col1\" >0.7902</td>\n",
       "      <td id=\"T_21fa6_row1_col2\" class=\"data row1 col2\" >0.8601</td>\n",
       "      <td id=\"T_21fa6_row1_col3\" class=\"data row1 col3\" >0.6730</td>\n",
       "      <td id=\"T_21fa6_row1_col4\" class=\"data row1 col4\" >0.7453</td>\n",
       "      <td id=\"T_21fa6_row1_col5\" class=\"data row1 col5\" >0.7072</td>\n",
       "      <td id=\"T_21fa6_row1_col6\" class=\"data row1 col6\" >0.5444</td>\n",
       "      <td id=\"T_21fa6_row1_col7\" class=\"data row1 col7\" >0.5462</td>\n",
       "      <td id=\"T_21fa6_row1_col8\" class=\"data row1 col8\" >0.3200</td>\n",
       "    </tr>\n",
       "    <tr>\n",
       "      <th id=\"T_21fa6_level0_row2\" class=\"row_heading level0 row2\" >xgboost</th>\n",
       "      <td id=\"T_21fa6_row2_col0\" class=\"data row2 col0\" >Extreme Gradient Boosting</td>\n",
       "      <td id=\"T_21fa6_row2_col1\" class=\"data row2 col1\" >0.7886</td>\n",
       "      <td id=\"T_21fa6_row2_col2\" class=\"data row2 col2\" >0.8553</td>\n",
       "      <td id=\"T_21fa6_row2_col3\" class=\"data row2 col3\" >0.6725</td>\n",
       "      <td id=\"T_21fa6_row2_col4\" class=\"data row2 col4\" >0.7422</td>\n",
       "      <td id=\"T_21fa6_row2_col5\" class=\"data row2 col5\" >0.7056</td>\n",
       "      <td id=\"T_21fa6_row2_col6\" class=\"data row2 col6\" >0.5413</td>\n",
       "      <td id=\"T_21fa6_row2_col7\" class=\"data row2 col7\" >0.5430</td>\n",
       "      <td id=\"T_21fa6_row2_col8\" class=\"data row2 col8\" >0.7490</td>\n",
       "    </tr>\n",
       "    <tr>\n",
       "      <th id=\"T_21fa6_level0_row3\" class=\"row_heading level0 row3\" >gbc</th>\n",
       "      <td id=\"T_21fa6_row3_col0\" class=\"data row3 col0\" >Gradient Boosting Classifier</td>\n",
       "      <td id=\"T_21fa6_row3_col1\" class=\"data row3 col1\" >0.7875</td>\n",
       "      <td id=\"T_21fa6_row3_col2\" class=\"data row3 col2\" >0.8533</td>\n",
       "      <td id=\"T_21fa6_row3_col3\" class=\"data row3 col3\" >0.6674</td>\n",
       "      <td id=\"T_21fa6_row3_col4\" class=\"data row3 col4\" >0.7425</td>\n",
       "      <td id=\"T_21fa6_row3_col5\" class=\"data row3 col5\" >0.7029</td>\n",
       "      <td id=\"T_21fa6_row3_col6\" class=\"data row3 col6\" >0.5382</td>\n",
       "      <td id=\"T_21fa6_row3_col7\" class=\"data row3 col7\" >0.5402</td>\n",
       "      <td id=\"T_21fa6_row3_col8\" class=\"data row3 col8\" >0.9380</td>\n",
       "    </tr>\n",
       "    <tr>\n",
       "      <th id=\"T_21fa6_level0_row4\" class=\"row_heading level0 row4\" >ada</th>\n",
       "      <td id=\"T_21fa6_row4_col0\" class=\"data row4 col0\" >Ada Boost Classifier</td>\n",
       "      <td id=\"T_21fa6_row4_col1\" class=\"data row4 col1\" >0.7825</td>\n",
       "      <td id=\"T_21fa6_row4_col2\" class=\"data row4 col2\" >0.8459</td>\n",
       "      <td id=\"T_21fa6_row4_col3\" class=\"data row4 col3\" >0.6569</td>\n",
       "      <td id=\"T_21fa6_row4_col4\" class=\"data row4 col4\" >0.7372</td>\n",
       "      <td id=\"T_21fa6_row4_col5\" class=\"data row4 col5\" >0.6946</td>\n",
       "      <td id=\"T_21fa6_row4_col6\" class=\"data row4 col6\" >0.5265</td>\n",
       "      <td id=\"T_21fa6_row4_col7\" class=\"data row4 col7\" >0.5287</td>\n",
       "      <td id=\"T_21fa6_row4_col8\" class=\"data row4 col8\" >0.3130</td>\n",
       "    </tr>\n",
       "    <tr>\n",
       "      <th id=\"T_21fa6_level0_row5\" class=\"row_heading level0 row5\" >rf</th>\n",
       "      <td id=\"T_21fa6_row5_col0\" class=\"data row5 col0\" >Random Forest Classifier</td>\n",
       "      <td id=\"T_21fa6_row5_col1\" class=\"data row5 col1\" >0.7574</td>\n",
       "      <td id=\"T_21fa6_row5_col2\" class=\"data row5 col2\" >0.8241</td>\n",
       "      <td id=\"T_21fa6_row5_col3\" class=\"data row5 col3\" >0.6595</td>\n",
       "      <td id=\"T_21fa6_row5_col4\" class=\"data row5 col4\" >0.6849</td>\n",
       "      <td id=\"T_21fa6_row5_col5\" class=\"data row5 col5\" >0.6718</td>\n",
       "      <td id=\"T_21fa6_row5_col6\" class=\"data row5 col6\" >0.4795</td>\n",
       "      <td id=\"T_21fa6_row5_col7\" class=\"data row5 col7\" >0.4798</td>\n",
       "      <td id=\"T_21fa6_row5_col8\" class=\"data row5 col8\" >0.7440</td>\n",
       "    </tr>\n",
       "    <tr>\n",
       "      <th id=\"T_21fa6_level0_row6\" class=\"row_heading level0 row6\" >et</th>\n",
       "      <td id=\"T_21fa6_row6_col0\" class=\"data row6 col0\" >Extra Trees Classifier</td>\n",
       "      <td id=\"T_21fa6_row6_col1\" class=\"data row6 col1\" >0.7505</td>\n",
       "      <td id=\"T_21fa6_row6_col2\" class=\"data row6 col2\" >0.8066</td>\n",
       "      <td id=\"T_21fa6_row6_col3\" class=\"data row6 col3\" >0.6665</td>\n",
       "      <td id=\"T_21fa6_row6_col4\" class=\"data row6 col4\" >0.6698</td>\n",
       "      <td id=\"T_21fa6_row6_col5\" class=\"data row6 col5\" >0.6680</td>\n",
       "      <td id=\"T_21fa6_row6_col6\" class=\"data row6 col6\" >0.4682</td>\n",
       "      <td id=\"T_21fa6_row6_col7\" class=\"data row6 col7\" >0.4683</td>\n",
       "      <td id=\"T_21fa6_row6_col8\" class=\"data row6 col8\" >0.8580</td>\n",
       "    </tr>\n",
       "    <tr>\n",
       "      <th id=\"T_21fa6_level0_row7\" class=\"row_heading level0 row7\" >knn</th>\n",
       "      <td id=\"T_21fa6_row7_col0\" class=\"data row7 col0\" >K Neighbors Classifier</td>\n",
       "      <td id=\"T_21fa6_row7_col1\" class=\"data row7 col1\" >0.7479</td>\n",
       "      <td id=\"T_21fa6_row7_col2\" class=\"data row7 col2\" >0.7929</td>\n",
       "      <td id=\"T_21fa6_row7_col3\" class=\"data row7 col3\" >0.6325</td>\n",
       "      <td id=\"T_21fa6_row7_col4\" class=\"data row7 col4\" >0.6770</td>\n",
       "      <td id=\"T_21fa6_row7_col5\" class=\"data row7 col5\" >0.6539</td>\n",
       "      <td id=\"T_21fa6_row7_col6\" class=\"data row7 col6\" >0.4560</td>\n",
       "      <td id=\"T_21fa6_row7_col7\" class=\"data row7 col7\" >0.4567</td>\n",
       "      <td id=\"T_21fa6_row7_col8\" class=\"data row7 col8\" >0.2330</td>\n",
       "    </tr>\n",
       "    <tr>\n",
       "      <th id=\"T_21fa6_level0_row8\" class=\"row_heading level0 row8\" >lr</th>\n",
       "      <td id=\"T_21fa6_row8_col0\" class=\"data row8 col0\" >Logistic Regression</td>\n",
       "      <td id=\"T_21fa6_row8_col1\" class=\"data row8 col1\" >0.7192</td>\n",
       "      <td id=\"T_21fa6_row8_col2\" class=\"data row8 col2\" >0.7611</td>\n",
       "      <td id=\"T_21fa6_row8_col3\" class=\"data row8 col3\" >0.4962</td>\n",
       "      <td id=\"T_21fa6_row8_col4\" class=\"data row8 col4\" >0.6726</td>\n",
       "      <td id=\"T_21fa6_row8_col5\" class=\"data row8 col5\" >0.5711</td>\n",
       "      <td id=\"T_21fa6_row8_col6\" class=\"data row8 col6\" >0.3694</td>\n",
       "      <td id=\"T_21fa6_row8_col7\" class=\"data row8 col7\" >0.3789</td>\n",
       "      <td id=\"T_21fa6_row8_col8\" class=\"data row8 col8\" >2.3180</td>\n",
       "    </tr>\n",
       "    <tr>\n",
       "      <th id=\"T_21fa6_level0_row9\" class=\"row_heading level0 row9\" >ridge</th>\n",
       "      <td id=\"T_21fa6_row9_col0\" class=\"data row9 col0\" >Ridge Classifier</td>\n",
       "      <td id=\"T_21fa6_row9_col1\" class=\"data row9 col1\" >0.7190</td>\n",
       "      <td id=\"T_21fa6_row9_col2\" class=\"data row9 col2\" >0.0000</td>\n",
       "      <td id=\"T_21fa6_row9_col3\" class=\"data row9 col3\" >0.4773</td>\n",
       "      <td id=\"T_21fa6_row9_col4\" class=\"data row9 col4\" >0.6812</td>\n",
       "      <td id=\"T_21fa6_row9_col5\" class=\"data row9 col5\" >0.5612</td>\n",
       "      <td id=\"T_21fa6_row9_col6\" class=\"data row9 col6\" >0.3638</td>\n",
       "      <td id=\"T_21fa6_row9_col7\" class=\"data row9 col7\" >0.3763</td>\n",
       "      <td id=\"T_21fa6_row9_col8\" class=\"data row9 col8\" >0.0530</td>\n",
       "    </tr>\n",
       "    <tr>\n",
       "      <th id=\"T_21fa6_level0_row10\" class=\"row_heading level0 row10\" >lda</th>\n",
       "      <td id=\"T_21fa6_row10_col0\" class=\"data row10 col0\" >Linear Discriminant Analysis</td>\n",
       "      <td id=\"T_21fa6_row10_col1\" class=\"data row10 col1\" >0.7186</td>\n",
       "      <td id=\"T_21fa6_row10_col2\" class=\"data row10 col2\" >0.7601</td>\n",
       "      <td id=\"T_21fa6_row10_col3\" class=\"data row10 col3\" >0.4834</td>\n",
       "      <td id=\"T_21fa6_row10_col4\" class=\"data row10 col4\" >0.6773</td>\n",
       "      <td id=\"T_21fa6_row10_col5\" class=\"data row10 col5\" >0.5641</td>\n",
       "      <td id=\"T_21fa6_row10_col6\" class=\"data row10 col6\" >0.3649</td>\n",
       "      <td id=\"T_21fa6_row10_col7\" class=\"data row10 col7\" >0.3762</td>\n",
       "      <td id=\"T_21fa6_row10_col8\" class=\"data row10 col8\" >0.0470</td>\n",
       "    </tr>\n",
       "    <tr>\n",
       "      <th id=\"T_21fa6_level0_row11\" class=\"row_heading level0 row11\" >dt</th>\n",
       "      <td id=\"T_21fa6_row11_col0\" class=\"data row11 col0\" >Decision Tree Classifier</td>\n",
       "      <td id=\"T_21fa6_row11_col1\" class=\"data row11 col1\" >0.7074</td>\n",
       "      <td id=\"T_21fa6_row11_col2\" class=\"data row11 col2\" >0.6881</td>\n",
       "      <td id=\"T_21fa6_row11_col3\" class=\"data row11 col3\" >0.6097</td>\n",
       "      <td id=\"T_21fa6_row11_col4\" class=\"data row11 col4\" >0.6121</td>\n",
       "      <td id=\"T_21fa6_row11_col5\" class=\"data row11 col5\" >0.6109</td>\n",
       "      <td id=\"T_21fa6_row11_col6\" class=\"data row11 col6\" >0.3765</td>\n",
       "      <td id=\"T_21fa6_row11_col7\" class=\"data row11 col7\" >0.3765</td>\n",
       "      <td id=\"T_21fa6_row11_col8\" class=\"data row11 col8\" >0.0530</td>\n",
       "    </tr>\n",
       "    <tr>\n",
       "      <th id=\"T_21fa6_level0_row12\" class=\"row_heading level0 row12\" >nb</th>\n",
       "      <td id=\"T_21fa6_row12_col0\" class=\"data row12 col0\" >Naive Bayes</td>\n",
       "      <td id=\"T_21fa6_row12_col1\" class=\"data row12 col1\" >0.6998</td>\n",
       "      <td id=\"T_21fa6_row12_col2\" class=\"data row12 col2\" >0.7645</td>\n",
       "      <td id=\"T_21fa6_row12_col3\" class=\"data row12 col3\" >0.7173</td>\n",
       "      <td id=\"T_21fa6_row12_col4\" class=\"data row12 col4\" >0.5825</td>\n",
       "      <td id=\"T_21fa6_row12_col5\" class=\"data row12 col5\" >0.6428</td>\n",
       "      <td id=\"T_21fa6_row12_col6\" class=\"data row12 col6\" >0.3887</td>\n",
       "      <td id=\"T_21fa6_row12_col7\" class=\"data row12 col7\" >0.3950</td>\n",
       "      <td id=\"T_21fa6_row12_col8\" class=\"data row12 col8\" >0.0190</td>\n",
       "    </tr>\n",
       "    <tr>\n",
       "      <th id=\"T_21fa6_level0_row13\" class=\"row_heading level0 row13\" >qda</th>\n",
       "      <td id=\"T_21fa6_row13_col0\" class=\"data row13 col0\" >Quadratic Discriminant Analysis</td>\n",
       "      <td id=\"T_21fa6_row13_col1\" class=\"data row13 col1\" >0.6616</td>\n",
       "      <td id=\"T_21fa6_row13_col2\" class=\"data row13 col2\" >0.7283</td>\n",
       "      <td id=\"T_21fa6_row13_col3\" class=\"data row13 col3\" >0.6465</td>\n",
       "      <td id=\"T_21fa6_row13_col4\" class=\"data row13 col4\" >0.5615</td>\n",
       "      <td id=\"T_21fa6_row13_col5\" class=\"data row13 col5\" >0.5804</td>\n",
       "      <td id=\"T_21fa6_row13_col6\" class=\"data row13 col6\" >0.3053</td>\n",
       "      <td id=\"T_21fa6_row13_col7\" class=\"data row13 col7\" >0.3231</td>\n",
       "      <td id=\"T_21fa6_row13_col8\" class=\"data row13 col8\" >0.0430</td>\n",
       "    </tr>\n",
       "    <tr>\n",
       "      <th id=\"T_21fa6_level0_row14\" class=\"row_heading level0 row14\" >svm</th>\n",
       "      <td id=\"T_21fa6_row14_col0\" class=\"data row14 col0\" >SVM - Linear Kernel</td>\n",
       "      <td id=\"T_21fa6_row14_col1\" class=\"data row14 col1\" >0.6187</td>\n",
       "      <td id=\"T_21fa6_row14_col2\" class=\"data row14 col2\" >0.0000</td>\n",
       "      <td id=\"T_21fa6_row14_col3\" class=\"data row14 col3\" >0.5442</td>\n",
       "      <td id=\"T_21fa6_row14_col4\" class=\"data row14 col4\" >0.5436</td>\n",
       "      <td id=\"T_21fa6_row14_col5\" class=\"data row14 col5\" >0.4658</td>\n",
       "      <td id=\"T_21fa6_row14_col6\" class=\"data row14 col6\" >0.2008</td>\n",
       "      <td id=\"T_21fa6_row14_col7\" class=\"data row14 col7\" >0.2406</td>\n",
       "      <td id=\"T_21fa6_row14_col8\" class=\"data row14 col8\" >0.3770</td>\n",
       "    </tr>\n",
       "  </tbody>\n",
       "</table>\n"
      ],
      "text/plain": [
       "<pandas.io.formats.style.Styler at 0x1e0e5e3f220>"
      ]
     },
     "metadata": {},
     "output_type": "display_data"
    },
    {
     "data": {
      "text/plain": [
       "<catboost.core.CatBoostClassifier at 0x1e0ea01b820>"
      ]
     },
     "execution_count": 33,
     "metadata": {},
     "output_type": "execute_result"
    }
   ],
   "source": [
    "compare_models()"
   ]
  },
  {
   "cell_type": "markdown",
   "metadata": {},
   "source": [
    "Overall, catboost gives the best morel results. Here we explore the settings for catboost model. "
   ]
  },
  {
   "cell_type": "code",
   "execution_count": 34,
   "metadata": {},
   "outputs": [
    {
     "data": {
      "text/html": [
       "<style type=\"text/css\">\n",
       "#T_34f73_row10_col0, #T_34f73_row10_col1, #T_34f73_row10_col2, #T_34f73_row10_col3, #T_34f73_row10_col4, #T_34f73_row10_col5, #T_34f73_row10_col6 {\n",
       "  background: yellow;\n",
       "}\n",
       "</style>\n",
       "<table id=\"T_34f73\">\n",
       "  <thead>\n",
       "    <tr>\n",
       "      <th class=\"blank level0\" >&nbsp;</th>\n",
       "      <th id=\"T_34f73_level0_col0\" class=\"col_heading level0 col0\" >Accuracy</th>\n",
       "      <th id=\"T_34f73_level0_col1\" class=\"col_heading level0 col1\" >AUC</th>\n",
       "      <th id=\"T_34f73_level0_col2\" class=\"col_heading level0 col2\" >Recall</th>\n",
       "      <th id=\"T_34f73_level0_col3\" class=\"col_heading level0 col3\" >Prec.</th>\n",
       "      <th id=\"T_34f73_level0_col4\" class=\"col_heading level0 col4\" >F1</th>\n",
       "      <th id=\"T_34f73_level0_col5\" class=\"col_heading level0 col5\" >Kappa</th>\n",
       "      <th id=\"T_34f73_level0_col6\" class=\"col_heading level0 col6\" >MCC</th>\n",
       "    </tr>\n",
       "  </thead>\n",
       "  <tbody>\n",
       "    <tr>\n",
       "      <th id=\"T_34f73_level0_row0\" class=\"row_heading level0 row0\" >0</th>\n",
       "      <td id=\"T_34f73_row0_col0\" class=\"data row0 col0\" >0.7854</td>\n",
       "      <td id=\"T_34f73_row0_col1\" class=\"data row0 col1\" >0.8501</td>\n",
       "      <td id=\"T_34f73_row0_col2\" class=\"data row0 col2\" >0.6730</td>\n",
       "      <td id=\"T_34f73_row0_col3\" class=\"data row0 col3\" >0.7349</td>\n",
       "      <td id=\"T_34f73_row0_col4\" class=\"data row0 col4\" >0.7026</td>\n",
       "      <td id=\"T_34f73_row0_col5\" class=\"data row0 col5\" >0.5353</td>\n",
       "      <td id=\"T_34f73_row0_col6\" class=\"data row0 col6\" >0.5365</td>\n",
       "    </tr>\n",
       "    <tr>\n",
       "      <th id=\"T_34f73_level0_row1\" class=\"row_heading level0 row1\" >1</th>\n",
       "      <td id=\"T_34f73_row1_col0\" class=\"data row1 col0\" >0.7906</td>\n",
       "      <td id=\"T_34f73_row1_col1\" class=\"data row1 col1\" >0.8570</td>\n",
       "      <td id=\"T_34f73_row1_col2\" class=\"data row1 col2\" >0.6669</td>\n",
       "      <td id=\"T_34f73_row1_col3\" class=\"data row1 col3\" >0.7494</td>\n",
       "      <td id=\"T_34f73_row1_col4\" class=\"data row1 col4\" >0.7057</td>\n",
       "      <td id=\"T_34f73_row1_col5\" class=\"data row1 col5\" >0.5440</td>\n",
       "      <td id=\"T_34f73_row1_col6\" class=\"data row1 col6\" >0.5463</td>\n",
       "    </tr>\n",
       "    <tr>\n",
       "      <th id=\"T_34f73_level0_row2\" class=\"row_heading level0 row2\" >2</th>\n",
       "      <td id=\"T_34f73_row2_col0\" class=\"data row2 col0\" >0.8034</td>\n",
       "      <td id=\"T_34f73_row2_col1\" class=\"data row2 col1\" >0.8616</td>\n",
       "      <td id=\"T_34f73_row2_col2\" class=\"data row2 col2\" >0.7003</td>\n",
       "      <td id=\"T_34f73_row2_col3\" class=\"data row2 col3\" >0.7590</td>\n",
       "      <td id=\"T_34f73_row2_col4\" class=\"data row2 col4\" >0.7285</td>\n",
       "      <td id=\"T_34f73_row2_col5\" class=\"data row2 col5\" >0.5748</td>\n",
       "      <td id=\"T_34f73_row2_col6\" class=\"data row2 col6\" >0.5760</td>\n",
       "    </tr>\n",
       "    <tr>\n",
       "      <th id=\"T_34f73_level0_row3\" class=\"row_heading level0 row3\" >3</th>\n",
       "      <td id=\"T_34f73_row3_col0\" class=\"data row3 col0\" >0.7997</td>\n",
       "      <td id=\"T_34f73_row3_col1\" class=\"data row3 col1\" >0.8708</td>\n",
       "      <td id=\"T_34f73_row3_col2\" class=\"data row3 col2\" >0.6980</td>\n",
       "      <td id=\"T_34f73_row3_col3\" class=\"data row3 col3\" >0.7522</td>\n",
       "      <td id=\"T_34f73_row3_col4\" class=\"data row3 col4\" >0.7241</td>\n",
       "      <td id=\"T_34f73_row3_col5\" class=\"data row3 col5\" >0.5673</td>\n",
       "      <td id=\"T_34f73_row3_col6\" class=\"data row3 col6\" >0.5682</td>\n",
       "    </tr>\n",
       "    <tr>\n",
       "      <th id=\"T_34f73_level0_row4\" class=\"row_heading level0 row4\" >4</th>\n",
       "      <td id=\"T_34f73_row4_col0\" class=\"data row4 col0\" >0.7869</td>\n",
       "      <td id=\"T_34f73_row4_col1\" class=\"data row4 col1\" >0.8515</td>\n",
       "      <td id=\"T_34f73_row4_col2\" class=\"data row4 col2\" >0.6571</td>\n",
       "      <td id=\"T_34f73_row4_col3\" class=\"data row4 col3\" >0.7466</td>\n",
       "      <td id=\"T_34f73_row4_col4\" class=\"data row4 col4\" >0.6990</td>\n",
       "      <td id=\"T_34f73_row4_col5\" class=\"data row4 col5\" >0.5350</td>\n",
       "      <td id=\"T_34f73_row4_col6\" class=\"data row4 col6\" >0.5376</td>\n",
       "    </tr>\n",
       "    <tr>\n",
       "      <th id=\"T_34f73_level0_row5\" class=\"row_heading level0 row5\" >5</th>\n",
       "      <td id=\"T_34f73_row5_col0\" class=\"data row5 col0\" >0.7889</td>\n",
       "      <td id=\"T_34f73_row5_col1\" class=\"data row5 col1\" >0.8572</td>\n",
       "      <td id=\"T_34f73_row5_col2\" class=\"data row5 col2\" >0.6677</td>\n",
       "      <td id=\"T_34f73_row5_col3\" class=\"data row5 col3\" >0.7451</td>\n",
       "      <td id=\"T_34f73_row5_col4\" class=\"data row5 col4\" >0.7043</td>\n",
       "      <td id=\"T_34f73_row5_col5\" class=\"data row5 col5\" >0.5409</td>\n",
       "      <td id=\"T_34f73_row5_col6\" class=\"data row5 col6\" >0.5428</td>\n",
       "    </tr>\n",
       "    <tr>\n",
       "      <th id=\"T_34f73_level0_row6\" class=\"row_heading level0 row6\" >6</th>\n",
       "      <td id=\"T_34f73_row6_col0\" class=\"data row6 col0\" >0.8009</td>\n",
       "      <td id=\"T_34f73_row6_col1\" class=\"data row6 col1\" >0.8712</td>\n",
       "      <td id=\"T_34f73_row6_col2\" class=\"data row6 col2\" >0.6725</td>\n",
       "      <td id=\"T_34f73_row6_col3\" class=\"data row6 col3\" >0.7700</td>\n",
       "      <td id=\"T_34f73_row6_col4\" class=\"data row6 col4\" >0.7179</td>\n",
       "      <td id=\"T_34f73_row6_col5\" class=\"data row6 col5\" >0.5651</td>\n",
       "      <td id=\"T_34f73_row6_col6\" class=\"data row6 col6\" >0.5682</td>\n",
       "    </tr>\n",
       "    <tr>\n",
       "      <th id=\"T_34f73_level0_row7\" class=\"row_heading level0 row7\" >7</th>\n",
       "      <td id=\"T_34f73_row7_col0\" class=\"data row7 col0\" >0.7991</td>\n",
       "      <td id=\"T_34f73_row7_col1\" class=\"data row7 col1\" >0.8637</td>\n",
       "      <td id=\"T_34f73_row7_col2\" class=\"data row7 col2\" >0.6869</td>\n",
       "      <td id=\"T_34f73_row7_col3\" class=\"data row7 col3\" >0.7575</td>\n",
       "      <td id=\"T_34f73_row7_col4\" class=\"data row7 col4\" >0.7205</td>\n",
       "      <td id=\"T_34f73_row7_col5\" class=\"data row7 col5\" >0.5643</td>\n",
       "      <td id=\"T_34f73_row7_col6\" class=\"data row7 col6\" >0.5660</td>\n",
       "    </tr>\n",
       "    <tr>\n",
       "      <th id=\"T_34f73_level0_row8\" class=\"row_heading level0 row8\" >8</th>\n",
       "      <td id=\"T_34f73_row8_col0\" class=\"data row8 col0\" >0.8014</td>\n",
       "      <td id=\"T_34f73_row8_col1\" class=\"data row8 col1\" >0.8736</td>\n",
       "      <td id=\"T_34f73_row8_col2\" class=\"data row8 col2\" >0.6861</td>\n",
       "      <td id=\"T_34f73_row8_col3\" class=\"data row8 col3\" >0.7631</td>\n",
       "      <td id=\"T_34f73_row8_col4\" class=\"data row8 col4\" >0.7226</td>\n",
       "      <td id=\"T_34f73_row8_col5\" class=\"data row8 col5\" >0.5686</td>\n",
       "      <td id=\"T_34f73_row8_col6\" class=\"data row8 col6\" >0.5706</td>\n",
       "    </tr>\n",
       "    <tr>\n",
       "      <th id=\"T_34f73_level0_row9\" class=\"row_heading level0 row9\" >9</th>\n",
       "      <td id=\"T_34f73_row9_col0\" class=\"data row9 col0\" >0.7905</td>\n",
       "      <td id=\"T_34f73_row9_col1\" class=\"data row9 col1\" >0.8579</td>\n",
       "      <td id=\"T_34f73_row9_col2\" class=\"data row9 col2\" >0.6616</td>\n",
       "      <td id=\"T_34f73_row9_col3\" class=\"data row9 col3\" >0.7524</td>\n",
       "      <td id=\"T_34f73_row9_col4\" class=\"data row9 col4\" >0.7041</td>\n",
       "      <td id=\"T_34f73_row9_col5\" class=\"data row9 col5\" >0.5430</td>\n",
       "      <td id=\"T_34f73_row9_col6\" class=\"data row9 col6\" >0.5457</td>\n",
       "    </tr>\n",
       "    <tr>\n",
       "      <th id=\"T_34f73_level0_row10\" class=\"row_heading level0 row10\" >Mean</th>\n",
       "      <td id=\"T_34f73_row10_col0\" class=\"data row10 col0\" >0.7947</td>\n",
       "      <td id=\"T_34f73_row10_col1\" class=\"data row10 col1\" >0.8615</td>\n",
       "      <td id=\"T_34f73_row10_col2\" class=\"data row10 col2\" >0.6770</td>\n",
       "      <td id=\"T_34f73_row10_col3\" class=\"data row10 col3\" >0.7530</td>\n",
       "      <td id=\"T_34f73_row10_col4\" class=\"data row10 col4\" >0.7129</td>\n",
       "      <td id=\"T_34f73_row10_col5\" class=\"data row10 col5\" >0.5538</td>\n",
       "      <td id=\"T_34f73_row10_col6\" class=\"data row10 col6\" >0.5558</td>\n",
       "    </tr>\n",
       "    <tr>\n",
       "      <th id=\"T_34f73_level0_row11\" class=\"row_heading level0 row11\" >SD</th>\n",
       "      <td id=\"T_34f73_row11_col0\" class=\"data row11 col0\" >0.0065</td>\n",
       "      <td id=\"T_34f73_row11_col1\" class=\"data row11 col1\" >0.0078</td>\n",
       "      <td id=\"T_34f73_row11_col2\" class=\"data row11 col2\" >0.0142</td>\n",
       "      <td id=\"T_34f73_row11_col3\" class=\"data row11 col3\" >0.0094</td>\n",
       "      <td id=\"T_34f73_row11_col4\" class=\"data row11 col4\" >0.0102</td>\n",
       "      <td id=\"T_34f73_row11_col5\" class=\"data row11 col5\" >0.0147</td>\n",
       "      <td id=\"T_34f73_row11_col6\" class=\"data row11 col6\" >0.0145</td>\n",
       "    </tr>\n",
       "  </tbody>\n",
       "</table>\n"
      ],
      "text/plain": [
       "<pandas.io.formats.style.Styler at 0x1e0e5dbd100>"
      ]
     },
     "metadata": {},
     "output_type": "display_data"
    },
    {
     "data": {
      "application/vnd.jupyter.widget-view+json": {
       "model_id": "32186a5653ea474e88db8e9d979ccba4",
       "version_major": 2,
       "version_minor": 0
      },
      "text/plain": [
       "interactive(children=(ToggleButtons(description='Plot Type:', icons=('',), options=(('Hyperparameters', 'param…"
      ]
     },
     "metadata": {},
     "output_type": "display_data"
    }
   ],
   "source": [
    "catboost = create_model('catboost')\n",
    "evaluate_model(catboost)"
   ]
  },
  {
   "cell_type": "code",
   "execution_count": 35,
   "metadata": {},
   "outputs": [
    {
     "data": {
      "image/png": "[encoded data removed]",
      "text/plain": [
       "<Figure size 720x576 with 2 Axes>"
      ]
     },
     "metadata": {},
     "output_type": "display_data"
    }
   ],
   "source": [
    "sns.set(rc = {'figure.figsize':(10,8)})\n",
    "plot_model(catboost, plot = 'class_report')"
   ]
  },
  {
   "cell_type": "code",
   "execution_count": 36,
   "metadata": {},
   "outputs": [
    {
     "data": {
      "image/png": "[encoded data removed]",
      "text/plain": [
       "<Figure size 720x576 with 1 Axes>"
      ]
     },
     "metadata": {},
     "output_type": "display_data"
    }
   ],
   "source": [
    "sns.set(rc = {'figure.figsize':(10,8)})\n",
    "plot_model(catboost, plot = 'confusion_matrix')"
   ]
  },
  {
   "cell_type": "code",
   "execution_count": 37,
   "metadata": {},
   "outputs": [
    {
     "data": {
      "image/png": "[encoded data removed]",
      "text/plain": [
       "<Figure size 720x576 with 1 Axes>"
      ]
     },
     "metadata": {},
     "output_type": "display_data"
    }
   ],
   "source": [
    "sns.set(rc = {'figure.figsize':(10,8)})\n",
    "plot_model(catboost, plot = 'auc')"
   ]
  },
  {
   "cell_type": "code",
   "execution_count": 38,
   "metadata": {},
   "outputs": [
    {
     "data": {
      "image/png": "[encoded data removed]",
      "text/plain": [
       "<Figure size 800x500 with 1 Axes>"
      ]
     },
     "metadata": {},
     "output_type": "display_data"
    }
   ],
   "source": [
    "sns.set(rc = {'figure.figsize':(10,8)})\n",
    "plot_model(catboost, plot = 'feature')"
   ]
  },
  {
   "cell_type": "markdown",
   "metadata": {},
   "source": [
    "#### Question 2: Build a predictive model to help Ultimate determine whether or not a user will be active in their 6th month on the system. Discuss why you chose your approach, what alternatives you considered, and any concerns you have. How valid is your model? Include any key indicators of model performance."
   ]
  },
  {
   "cell_type": "markdown",
   "metadata": {},
   "source": [
    "First, this is a classification problem, so we can use classification machine learning models. Pycaret helps identify the best model with the best results, which is catboost classifier. \n",
    "\n",
    "The accuracy value is 0.79, AUC value is 0.86. Those values indicate the catboost model is a very good model."
   ]
  },
  {
   "cell_type": "markdown",
   "metadata": {},
   "source": [
    "#### Question 3: Briefly discuss how Ultimate might leverage the insights gained from the model to improve its long term rider retention (again, a few sentences will suffice)."
   ]
  },
  {
   "cell_type": "markdown",
   "metadata": {},
   "source": [
    "`ultimate_black_user`, `city_Astapor`, and `city_winterfell` are not the most important features, indicating that those users are not much retained. Ultimate could conduct more marketing for black user, and for users in the cities of Aspator and Winterfell to attract more retained users. "
   ]
  },
  {
   "cell_type": "code",
   "execution_count": null,
   "metadata": {},
   "outputs": [],
   "source": []
  }
 ],
 "metadata": {
  "colab": {
   "collapsed_sections": [
    "FXGd_NbdB5kn"
   ],
   "name": "RandomForest_casestudy_covid19.ipynb",
   "provenance": []
  },
  "kernelspec": {
   "display_name": "Python 3 (ipykernel)",
   "language": "python",
   "name": "python3"
  },
  "language_info": {
   "codemirror_mode": {
    "name": "ipython",
    "version": 3
   },
   "file_extension": ".py",
   "mimetype": "text/x-python",
   "name": "python",
   "nbconvert_exporter": "python",
   "pygments_lexer": "ipython3",
   "version": "3.9.12"
  }
 },
 "nbformat": 4,
 "nbformat_minor": 4
}
